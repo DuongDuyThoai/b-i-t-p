{
  "nbformat": 4,
  "nbformat_minor": 0,
  "metadata": {
    "colab": {
      "provenance": [],
      "collapsed_sections": [],
      "authorship_tag": "ABX9TyN1hhEVNd4bYAFa7Utf+9Yp",
      "include_colab_link": true
    },
    "kernelspec": {
      "name": "python3",
      "display_name": "Python 3"
    },
    "language_info": {
      "name": "python"
    }
  },
  "cells": [
    {
      "cell_type": "markdown",
      "metadata": {
        "id": "view-in-github",
        "colab_type": "text"
      },
      "source": [
        "<a href=\"https://colab.research.google.com/github/DuongDuyThoai/bai-tap-AI/blob/main/18_10_22.ipynb\" target=\"_parent\"><img src=\"https://colab.research.google.com/assets/colab-badge.svg\" alt=\"Open In Colab\"/></a>"
      ]
    },
    {
      "cell_type": "code",
      "execution_count": null,
      "metadata": {
        "id": "HHnuPIznHU6y",
        "colab": {
          "base_uri": "https://localhost:8080/"
        },
        "outputId": "63464781-a019-4e31-98d8-8801693b4699"
      },
      "outputs": [
        {
          "output_type": "stream",
          "name": "stdout",
          "text": [
            "Downloading data from https://storage.googleapis.com/tensorflow/tf-keras-datasets/train-labels-idx1-ubyte.gz\n",
            "29515/29515 [==============================] - 0s 0us/step\n",
            "Downloading data from https://storage.googleapis.com/tensorflow/tf-keras-datasets/train-images-idx3-ubyte.gz\n",
            "26421880/26421880 [==============================] - 0s 0us/step\n",
            "Downloading data from https://storage.googleapis.com/tensorflow/tf-keras-datasets/t10k-labels-idx1-ubyte.gz\n",
            "5148/5148 [==============================] - 0s 0us/step\n",
            "Downloading data from https://storage.googleapis.com/tensorflow/tf-keras-datasets/t10k-images-idx3-ubyte.gz\n",
            "4422102/4422102 [==============================] - 0s 0us/step\n"
          ]
        }
      ],
      "source": [
        "from keras.datasets import fashion_mnist\n",
        "(X_train,y_train),(X_test,y_test)=fashion_mnist.load_data()"
      ]
    },
    {
      "cell_type": "code",
      "source": [
        "X_train.shape"
      ],
      "metadata": {
        "colab": {
          "base_uri": "https://localhost:8080/"
        },
        "id": "oVm4y4ntICyB",
        "outputId": "2074201c-fc9a-44bd-b807-617453983ae9"
      },
      "execution_count": null,
      "outputs": [
        {
          "output_type": "execute_result",
          "data": {
            "text/plain": [
              "(60000, 28, 28)"
            ]
          },
          "metadata": {},
          "execution_count": 2
        }
      ]
    },
    {
      "cell_type": "code",
      "source": [
        "y_train.shape"
      ],
      "metadata": {
        "colab": {
          "base_uri": "https://localhost:8080/"
        },
        "id": "omqOd6Z0IIhs",
        "outputId": "9bfa2704-0312-4b8e-b3e4-404da00866cc"
      },
      "execution_count": null,
      "outputs": [
        {
          "output_type": "execute_result",
          "data": {
            "text/plain": [
              "(60000,)"
            ]
          },
          "metadata": {},
          "execution_count": 3
        }
      ]
    },
    {
      "cell_type": "code",
      "source": [
        "X_test.shape"
      ],
      "metadata": {
        "colab": {
          "base_uri": "https://localhost:8080/"
        },
        "id": "2aiFP7OEILwD",
        "outputId": "9a712c8e-463a-408f-8e90-3027e9984d4f"
      },
      "execution_count": null,
      "outputs": [
        {
          "output_type": "execute_result",
          "data": {
            "text/plain": [
              "(10000, 28, 28)"
            ]
          },
          "metadata": {},
          "execution_count": 4
        }
      ]
    },
    {
      "cell_type": "code",
      "source": [
        "y_test.shape"
      ],
      "metadata": {
        "colab": {
          "base_uri": "https://localhost:8080/"
        },
        "id": "jYuIFo06IPbp",
        "outputId": "8fa0b26e-227a-40f1-8e2e-d1f4bf345590"
      },
      "execution_count": null,
      "outputs": [
        {
          "output_type": "execute_result",
          "data": {
            "text/plain": [
              "(10000,)"
            ]
          },
          "metadata": {},
          "execution_count": 5
        }
      ]
    },
    {
      "cell_type": "code",
      "source": [
        "class_names = ['T-shirt/top', 'Trouser', 'Pullover', 'Dress', 'Coat',\n",
        "               'Sandal', 'Shirt', 'Sneaker', 'Bag', 'Ankle boot']"
      ],
      "metadata": {
        "id": "6wh-ms5BItNX"
      },
      "execution_count": null,
      "outputs": []
    },
    {
      "cell_type": "code",
      "source": [
        "import matplotlib.pyplot as plt\n",
        "plt.imshow(X_train[5999])\n",
        "plt.show\n",
        "print(class_names[y_train[5999]])"
      ],
      "metadata": {
        "colab": {
          "base_uri": "https://localhost:8080/",
          "height": 282
        },
        "id": "s4X8sMBFJJqQ",
        "outputId": "3f209e78-f58c-4d21-cce8-a64f3adc99bc"
      },
      "execution_count": null,
      "outputs": [
        {
          "output_type": "stream",
          "name": "stdout",
          "text": [
            "T-shirt/top\n"
          ]
        },
        {
          "output_type": "display_data",
          "data": {
            "text/plain": [
              "<Figure size 432x288 with 1 Axes>"
            ],
            "image/png": "[encoded data removed]"
          },
          "metadata": {
            "needs_background": "light"
          }
        }
      ]
    },
    {
      "cell_type": "code",
      "source": [
        "from keras.layers.serialization import activation\n",
        "from keras import models\n",
        "from keras import layers\n",
        "from keras.utils import to_categorical\n",
        "model = models.Sequential()\n",
        "model.add(layers.Dense(512,activation='relu',input_shape=(28*28,)))\n",
        "model.add(layers.Dense(10,activation='softmax'))\n",
        "model.summary()\n",
        "X_train=X_train.reshape((60000,28*28))\n",
        "X_train = X_train.astype('float32')/255\n",
        "X_test = X_test.reshape(10000,28*28)\n",
        "X_test = X_test.astype('float32')/255\n",
        "y_train = to_categorical(y_train)\n",
        "y_test = to_categorical(y_test)\n",
        "model.compile(optimizer='rmsprop',loss='categorical_crossentropy' , metrics= 'accuracy' )\n",
        "model.fit(X_train,y_train,epochs=50,batch_size=128)"
      ],
      "metadata": {
        "colab": {
          "base_uri": "https://localhost:8080/"
        },
        "id": "z_vnpSStLB5V",
        "outputId": "49cd2a36-3d4f-4343-d363-3bed5a1e026c"
      },
      "execution_count": null,
      "outputs": [
        {
          "output_type": "stream",
          "name": "stdout",
          "text": [
            "Model: \"sequential\"\n",
            "_________________________________________________________________\n",
            " Layer (type)                Output Shape              Param #   \n",
            "=================================================================\n",
            " dense (Dense)               (None, 512)               401920    \n",
            "                                                                 \n",
            " dense_1 (Dense)             (None, 10)                5130      \n",
            "                                                                 \n",
            "=================================================================\n",
            "Total params: 407,050\n",
            "Trainable params: 407,050\n",
            "Non-trainable params: 0\n",
            "_________________________________________________________________\n",
            "Epoch 1/50\n",
            "469/469 [==============================] - 7s 13ms/step - loss: 0.5588 - accuracy: 0.8039\n",
            "Epoch 2/50\n",
            "469/469 [==============================] - 6s 13ms/step - loss: 0.3798 - accuracy: 0.8608\n",
            "Epoch 3/50\n",
            "469/469 [==============================] - 6s 13ms/step - loss: 0.3376 - accuracy: 0.8747\n",
            "Epoch 4/50\n",
            "469/469 [==============================] - 6s 12ms/step - loss: 0.3100 - accuracy: 0.8851\n",
            "Epoch 5/50\n",
            "469/469 [==============================] - 6s 12ms/step - loss: 0.2914 - accuracy: 0.8919\n",
            "Epoch 6/50\n",
            "469/469 [==============================] - 6s 13ms/step - loss: 0.2768 - accuracy: 0.8978\n",
            "Epoch 7/50\n",
            "469/469 [==============================] - 6s 13ms/step - loss: 0.2634 - accuracy: 0.9036\n",
            "Epoch 8/50\n",
            "469/469 [==============================] - 6s 12ms/step - loss: 0.2509 - accuracy: 0.9082\n",
            "Epoch 9/50\n",
            "469/469 [==============================] - 6s 12ms/step - loss: 0.2423 - accuracy: 0.9102\n",
            "Epoch 10/50\n",
            "469/469 [==============================] - 6s 12ms/step - loss: 0.2333 - accuracy: 0.9131\n",
            "Epoch 11/50\n",
            "469/469 [==============================] - 6s 12ms/step - loss: 0.2253 - accuracy: 0.9164\n",
            "Epoch 12/50\n",
            "469/469 [==============================] - 6s 12ms/step - loss: 0.2179 - accuracy: 0.9190\n",
            "Epoch 13/50\n",
            "469/469 [==============================] - 6s 12ms/step - loss: 0.2109 - accuracy: 0.9225\n",
            "Epoch 14/50\n",
            "469/469 [==============================] - 5s 11ms/step - loss: 0.2055 - accuracy: 0.9238\n",
            "Epoch 15/50\n",
            "469/469 [==============================] - 6s 12ms/step - loss: 0.1980 - accuracy: 0.9263\n",
            "Epoch 16/50\n",
            "469/469 [==============================] - 6s 13ms/step - loss: 0.1921 - accuracy: 0.9292\n",
            "Epoch 17/50\n",
            "469/469 [==============================] - 6s 12ms/step - loss: 0.1852 - accuracy: 0.9320\n",
            "Epoch 18/50\n",
            "469/469 [==============================] - 6s 13ms/step - loss: 0.1825 - accuracy: 0.9329\n",
            "Epoch 19/50\n",
            "469/469 [==============================] - 6s 13ms/step - loss: 0.1770 - accuracy: 0.9348\n",
            "Epoch 20/50\n",
            "469/469 [==============================] - 6s 13ms/step - loss: 0.1707 - accuracy: 0.9360\n",
            "Epoch 21/50\n",
            "469/469 [==============================] - 6s 13ms/step - loss: 0.1672 - accuracy: 0.9395\n",
            "Epoch 22/50\n",
            "469/469 [==============================] - 6s 12ms/step - loss: 0.1643 - accuracy: 0.9406\n",
            "Epoch 23/50\n",
            "469/469 [==============================] - 6s 13ms/step - loss: 0.1596 - accuracy: 0.9409\n",
            "Epoch 24/50\n",
            "469/469 [==============================] - 6s 13ms/step - loss: 0.1542 - accuracy: 0.9441\n",
            "Epoch 25/50\n",
            "469/469 [==============================] - 6s 13ms/step - loss: 0.1498 - accuracy: 0.9455\n",
            "Epoch 26/50\n",
            "469/469 [==============================] - 6s 12ms/step - loss: 0.1477 - accuracy: 0.9461\n",
            "Epoch 27/50\n",
            "469/469 [==============================] - 6s 12ms/step - loss: 0.1448 - accuracy: 0.9478\n",
            "Epoch 28/50\n",
            "469/469 [==============================] - 6s 12ms/step - loss: 0.1406 - accuracy: 0.9489\n",
            "Epoch 29/50\n",
            "469/469 [==============================] - 6s 13ms/step - loss: 0.1385 - accuracy: 0.9499\n",
            "Epoch 30/50\n",
            "469/469 [==============================] - 6s 12ms/step - loss: 0.1335 - accuracy: 0.9512\n",
            "Epoch 31/50\n",
            "469/469 [==============================] - 6s 13ms/step - loss: 0.1330 - accuracy: 0.9521\n",
            "Epoch 32/50\n",
            "469/469 [==============================] - 6s 13ms/step - loss: 0.1301 - accuracy: 0.9529\n",
            "Epoch 33/50\n",
            "469/469 [==============================] - 5s 12ms/step - loss: 0.1290 - accuracy: 0.9538\n",
            "Epoch 34/50\n",
            "469/469 [==============================] - 6s 12ms/step - loss: 0.1257 - accuracy: 0.9546\n",
            "Epoch 35/50\n",
            "469/469 [==============================] - 8s 16ms/step - loss: 0.1225 - accuracy: 0.9573\n",
            "Epoch 36/50\n",
            "469/469 [==============================] - 6s 12ms/step - loss: 0.1196 - accuracy: 0.9572\n",
            "Epoch 37/50\n",
            "469/469 [==============================] - 6s 13ms/step - loss: 0.1179 - accuracy: 0.9575\n",
            "Epoch 38/50\n",
            "469/469 [==============================] - 6s 12ms/step - loss: 0.1171 - accuracy: 0.9587\n",
            "Epoch 39/50\n",
            "469/469 [==============================] - 6s 13ms/step - loss: 0.1131 - accuracy: 0.9587\n",
            "Epoch 40/50\n",
            "469/469 [==============================] - 6s 13ms/step - loss: 0.1112 - accuracy: 0.9611\n",
            "Epoch 41/50\n",
            "469/469 [==============================] - 6s 13ms/step - loss: 0.1103 - accuracy: 0.9610\n",
            "Epoch 42/50\n",
            "469/469 [==============================] - 6s 12ms/step - loss: 0.1081 - accuracy: 0.9625\n",
            "Epoch 43/50\n",
            "469/469 [==============================] - 6s 12ms/step - loss: 0.1073 - accuracy: 0.9625\n",
            "Epoch 44/50\n",
            "469/469 [==============================] - 7s 15ms/step - loss: 0.1053 - accuracy: 0.9624\n",
            "Epoch 45/50\n",
            "469/469 [==============================] - 6s 12ms/step - loss: 0.1032 - accuracy: 0.9639\n",
            "Epoch 46/50\n",
            "469/469 [==============================] - 6s 12ms/step - loss: 0.1028 - accuracy: 0.9637\n",
            "Epoch 47/50\n",
            "469/469 [==============================] - 6s 13ms/step - loss: 0.1000 - accuracy: 0.9661\n",
            "Epoch 48/50\n",
            "469/469 [==============================] - 6s 12ms/step - loss: 0.0993 - accuracy: 0.9661\n",
            "Epoch 49/50\n",
            "469/469 [==============================] - 6s 12ms/step - loss: 0.1000 - accuracy: 0.9652\n",
            "Epoch 50/50\n",
            "469/469 [==============================] - 6s 13ms/step - loss: 0.0969 - accuracy: 0.9666\n"
          ]
        },
        {
          "output_type": "execute_result",
          "data": {
            "text/plain": [
              "<keras.callbacks.History at 0x7f65d3535190>"
            ]
          },
          "metadata": {},
          "execution_count": 8
        }
      ]
    },
    {
      "cell_type": "code",
      "source": [
        "import numpy as np\n",
        "from keras.utils import load_img\n",
        "from keras.utils import img_to_array\n",
        "img=load_img('/content/balo-fedom-fido.jpg',target_size=(28,28))\n",
        "plt.imshow(img)\n",
        "img=img_to_array(img)\n",
        "img=img[:,:,0]\n",
        "img=img.astype('float32')\n",
        "img=img/255\n",
        "img=img.reshape(1,784)\n",
        "print(np.argmax(model.predict(img),axis=1)"
      ],
      "metadata": {
        "id": "PTZ1I5k9PJnw"
      },
      "execution_count": null,
      "outputs": []
    }
  ]
}
{
  "nbformat": 4,
  "nbformat_minor": 0,
  "metadata": {
    "colab": {
      "provenance": [],
      "collapsed_sections": [],
      "authorship_tag": "ABX9TyMuiHLKl+POUWK8oOJ1k32C",
      "include_colab_link": true
    },
    "kernelspec": {
      "name": "python3",
      "display_name": "Python 3"
    },
    "language_info": {
      "name": "python"
    }
  },
  "cells": [
    {
      "cell_type": "markdown",
      "metadata": {
        "id": "view-in-github",
        "colab_type": "text"
      },
      "source": [
        "<a href=\"https://colab.research.google.com/github/DuongDuyThoai/bai-tap-AI/blob/main/18_10_22.ipynb\" target=\"_parent\"><img src=\"https://colab.research.google.com/assets/colab-badge.svg\" alt=\"Open In Colab\"/></a>"
      ]
    },
    {
      "cell_type": "code",
      "execution_count": null,
      "metadata": {
        "id": "HHnuPIznHU6y",
        "colab": {
          "base_uri": "https://localhost:8080/"
        },
        "outputId": "85c2bdc4-77eb-4df0-c7b8-bf2b1c67a75c"
      },
      "outputs": [
        {
          "output_type": "stream",
          "name": "stdout",
          "text": [
            "Downloading data from https://storage.googleapis.com/tensorflow/tf-keras-datasets/train-labels-idx1-ubyte.gz\n",
            "29515/29515 [==============================] - 0s 0us/step\n",
            "Downloading data from https://storage.googleapis.com/tensorflow/tf-keras-datasets/train-images-idx3-ubyte.gz\n",
            "26421880/26421880 [==============================] - 0s 0us/step\n",
            "Downloading data from https://storage.googleapis.com/tensorflow/tf-keras-datasets/t10k-labels-idx1-ubyte.gz\n",
            "5148/5148 [==============================] - 0s 0us/step\n",
            "Downloading data from https://storage.googleapis.com/tensorflow/tf-keras-datasets/t10k-images-idx3-ubyte.gz\n",
            "4422102/4422102 [==============================] - 0s 0us/step\n"
          ]
        }
      ],
      "source": [
        "from keras.datasets import fashion_mnist\n",
        "(X_train,y_train),(X_test,y_test)=fashion_mnist.load_data()"
      ]
    },
    {
      "cell_type": "code",
      "source": [
        "X_train.shape"
      ],
      "metadata": {
        "colab": {
          "base_uri": "https://localhost:8080/"
        },
        "id": "oVm4y4ntICyB",
        "outputId": "dae84388-5d42-40c7-9fb5-e62332b86f58"
      },
      "execution_count": null,
      "outputs": [
        {
          "output_type": "execute_result",
          "data": {
            "text/plain": [
              "(60000, 28, 28)"
            ]
          },
          "metadata": {},
          "execution_count": 6
        }
      ]
    },
    {
      "cell_type": "code",
      "source": [
        "y_train.shape"
      ],
      "metadata": {
        "colab": {
          "base_uri": "https://localhost:8080/"
        },
        "id": "omqOd6Z0IIhs",
        "outputId": "0203f15e-b50e-49b0-fcdf-adebf2dfc6b9"
      },
      "execution_count": null,
      "outputs": [
        {
          "output_type": "execute_result",
          "data": {
            "text/plain": [
              "(60000,)"
            ]
          },
          "metadata": {},
          "execution_count": 7
        }
      ]
    },
    {
      "cell_type": "code",
      "source": [
        "X_test.shape"
      ],
      "metadata": {
        "colab": {
          "base_uri": "https://localhost:8080/"
        },
        "id": "2aiFP7OEILwD",
        "outputId": "67faf3ba-4967-40f6-8c09-847eaa00a72c"
      },
      "execution_count": null,
      "outputs": [
        {
          "output_type": "execute_result",
          "data": {
            "text/plain": [
              "(10000, 28, 28)"
            ]
          },
          "metadata": {},
          "execution_count": 8
        }
      ]
    },
    {
      "cell_type": "code",
      "source": [
        "y_test.shape"
      ],
      "metadata": {
        "colab": {
          "base_uri": "https://localhost:8080/"
        },
        "id": "jYuIFo06IPbp",
        "outputId": "d6b00e38-8e39-4b1a-9000-ae7999e65080"
      },
      "execution_count": null,
      "outputs": [
        {
          "output_type": "execute_result",
          "data": {
            "text/plain": [
              "(10000,)"
            ]
          },
          "metadata": {},
          "execution_count": 9
        }
      ]
    },
    {
      "cell_type": "code",
      "source": [
        "class_names = ['T-shirt/top', 'Trouser', 'Pullover', 'Dress', 'Coat',\n",
        "               'Sandal', 'Shirt', 'Sneaker', 'Bag', 'Ankle boot']"
      ],
      "metadata": {
        "id": "6wh-ms5BItNX"
      },
      "execution_count": null,
      "outputs": []
    },
    {
      "cell_type": "code",
      "source": [
        "import matplotlib.pyplot as plt\n",
        "plt.imshow(X_train[5999])\n",
        "plt.show\n",
        "print(class_names[y_train[5999]])"
      ],
      "metadata": {
        "colab": {
          "base_uri": "https://localhost:8080/",
          "height": 282
        },
        "id": "s4X8sMBFJJqQ",
        "outputId": "c785b8c9-818a-4836-842c-89e02b4dc4df"
      },
      "execution_count": null,
      "outputs": [
        {
          "output_type": "stream",
          "name": "stdout",
          "text": [
            "T-shirt/top\n"
          ]
        },
        {
          "output_type": "display_data",
          "data": {
            "text/plain": [
              "<Figure size 432x288 with 1 Axes>"
            ],
            "image/png": "[encoded data removed]"
          },
          "metadata": {
            "needs_background": "light"
          }
        }
      ]
    },
    {
      "cell_type": "code",
      "source": [
        "from keras.layers.serialization import activation\n",
        "from keras import models\n",
        "from keras import layers\n",
        "from keras.utils import to_categorical\n",
        "model = models.Sequential()\n",
        "model.add(layers.Dense(512,activation='relu',input_shape=(28*28,)))\n",
        "model.add(layers.Dense(10,activation='softmax'))\n",
        "model.summary()\n",
        "X_train=X_train.reshape((60000,28*28))\n",
        "X_train = X_train.astype('float32')/255\n",
        "X_test = X_test.reshape(10000,28*28)\n",
        "X_test = X_test.astype('float32')/255\n",
        "y_train = to_categorical(y_train)\n",
        "y_test = to_categorical(y_test)\n",
        "model.compile(optimizer='rmsprop',loss='categorical_crossentropy' , metrics= 'accuracy' )\n",
        "model.fit(X_train,y_train,epochs=50,batch_size=128)"
      ],
      "metadata": {
        "colab": {
          "base_uri": "https://localhost:8080/"
        },
        "id": "z_vnpSStLB5V",
        "outputId": "cd6b0c9b-f557-4081-8e5b-416fd40e9bf7"
      },
      "execution_count": null,
      "outputs": [
        {
          "output_type": "stream",
          "name": "stdout",
          "text": [
            "Model: \"sequential\"\n",
            "_________________________________________________________________\n",
            " Layer (type)                Output Shape              Param #   \n",
            "=================================================================\n",
            " dense (Dense)               (None, 512)               401920    \n",
            "                                                                 \n",
            " dense_1 (Dense)             (None, 10)                5130      \n",
            "                                                                 \n",
            "=================================================================\n",
            "Total params: 407,050\n",
            "Trainable params: 407,050\n",
            "Non-trainable params: 0\n",
            "_________________________________________________________________\n",
            "Epoch 1/50\n",
            "469/469 [==============================] - 6s 12ms/step - loss: 0.5516 - accuracy: 0.8033\n",
            "Epoch 2/50\n",
            "469/469 [==============================] - 5s 11ms/step - loss: 0.3795 - accuracy: 0.8616\n",
            "Epoch 3/50\n",
            "469/469 [==============================] - 5s 12ms/step - loss: 0.3360 - accuracy: 0.8771\n",
            "Epoch 4/50\n",
            "469/469 [==============================] - 5s 11ms/step - loss: 0.3120 - accuracy: 0.8850\n",
            "Epoch 5/50\n",
            "469/469 [==============================] - 5s 12ms/step - loss: 0.2927 - accuracy: 0.8914\n",
            "Epoch 6/50\n",
            "469/469 [==============================] - 5s 11ms/step - loss: 0.2777 - accuracy: 0.8982\n",
            "Epoch 7/50\n",
            "469/469 [==============================] - 5s 11ms/step - loss: 0.2631 - accuracy: 0.9021\n",
            "Epoch 8/50\n",
            "469/469 [==============================] - 5s 11ms/step - loss: 0.2534 - accuracy: 0.9075\n",
            "Epoch 9/50\n",
            "469/469 [==============================] - 5s 11ms/step - loss: 0.2438 - accuracy: 0.9102\n",
            "Epoch 10/50\n",
            "469/469 [==============================] - 5s 11ms/step - loss: 0.2335 - accuracy: 0.9129\n",
            "Epoch 11/50\n",
            "469/469 [==============================] - 5s 11ms/step - loss: 0.2249 - accuracy: 0.9171\n",
            "Epoch 12/50\n",
            "469/469 [==============================] - 5s 11ms/step - loss: 0.2179 - accuracy: 0.9186\n",
            "Epoch 13/50\n",
            "469/469 [==============================] - 5s 11ms/step - loss: 0.2121 - accuracy: 0.9217\n",
            "Epoch 14/50\n",
            "469/469 [==============================] - 5s 11ms/step - loss: 0.2032 - accuracy: 0.9249\n",
            "Epoch 15/50\n",
            "469/469 [==============================] - 5s 11ms/step - loss: 0.1978 - accuracy: 0.9264\n",
            "Epoch 16/50\n",
            "469/469 [==============================] - 5s 11ms/step - loss: 0.1907 - accuracy: 0.9280\n",
            "Epoch 17/50\n",
            "469/469 [==============================] - 5s 11ms/step - loss: 0.1878 - accuracy: 0.9311\n",
            "Epoch 18/50\n",
            "469/469 [==============================] - 5s 11ms/step - loss: 0.1824 - accuracy: 0.9328\n",
            "Epoch 19/50\n",
            "469/469 [==============================] - 5s 11ms/step - loss: 0.1749 - accuracy: 0.9354\n",
            "Epoch 20/50\n",
            "469/469 [==============================] - 5s 11ms/step - loss: 0.1706 - accuracy: 0.9376\n",
            "Epoch 21/50\n",
            "469/469 [==============================] - 5s 11ms/step - loss: 0.1664 - accuracy: 0.9382\n",
            "Epoch 22/50\n",
            "469/469 [==============================] - 5s 11ms/step - loss: 0.1645 - accuracy: 0.9400\n",
            "Epoch 23/50\n",
            "469/469 [==============================] - 5s 11ms/step - loss: 0.1602 - accuracy: 0.9406\n",
            "Epoch 24/50\n",
            "469/469 [==============================] - 5s 11ms/step - loss: 0.1553 - accuracy: 0.9426\n",
            "Epoch 25/50\n",
            "469/469 [==============================] - 5s 11ms/step - loss: 0.1505 - accuracy: 0.9446\n",
            "Epoch 26/50\n",
            "469/469 [==============================] - 5s 11ms/step - loss: 0.1472 - accuracy: 0.9460\n",
            "Epoch 27/50\n",
            "469/469 [==============================] - 5s 11ms/step - loss: 0.1433 - accuracy: 0.9490\n",
            "Epoch 28/50\n",
            "469/469 [==============================] - 5s 11ms/step - loss: 0.1419 - accuracy: 0.9489\n",
            "Epoch 29/50\n",
            "469/469 [==============================] - 5s 11ms/step - loss: 0.1394 - accuracy: 0.9489\n",
            "Epoch 30/50\n",
            "469/469 [==============================] - 5s 12ms/step - loss: 0.1372 - accuracy: 0.9497\n",
            "Epoch 31/50\n",
            "469/469 [==============================] - 5s 11ms/step - loss: 0.1324 - accuracy: 0.9520\n",
            "Epoch 32/50\n",
            "469/469 [==============================] - 5s 11ms/step - loss: 0.1314 - accuracy: 0.9537\n",
            "Epoch 33/50\n",
            "469/469 [==============================] - 5s 12ms/step - loss: 0.1250 - accuracy: 0.9543\n",
            "Epoch 34/50\n",
            "469/469 [==============================] - 5s 12ms/step - loss: 0.1256 - accuracy: 0.9553\n",
            "Epoch 35/50\n",
            "469/469 [==============================] - 5s 12ms/step - loss: 0.1213 - accuracy: 0.9561\n",
            "Epoch 36/50\n",
            "469/469 [==============================] - 5s 12ms/step - loss: 0.1192 - accuracy: 0.9568\n",
            "Epoch 37/50\n",
            "469/469 [==============================] - 5s 12ms/step - loss: 0.1182 - accuracy: 0.9589\n",
            "Epoch 38/50\n",
            "469/469 [==============================] - 5s 12ms/step - loss: 0.1130 - accuracy: 0.9598\n",
            "Epoch 39/50\n",
            "469/469 [==============================] - 5s 11ms/step - loss: 0.1143 - accuracy: 0.9594\n",
            "Epoch 40/50\n",
            "469/469 [==============================] - 5s 11ms/step - loss: 0.1112 - accuracy: 0.9599\n",
            "Epoch 41/50\n",
            "469/469 [==============================] - 5s 11ms/step - loss: 0.1097 - accuracy: 0.9605\n",
            "Epoch 42/50\n",
            "469/469 [==============================] - 5s 11ms/step - loss: 0.1100 - accuracy: 0.9610\n",
            "Epoch 43/50\n",
            "469/469 [==============================] - 5s 11ms/step - loss: 0.1062 - accuracy: 0.9627\n",
            "Epoch 44/50\n",
            "469/469 [==============================] - 5s 11ms/step - loss: 0.1050 - accuracy: 0.9641\n",
            "Epoch 45/50\n",
            "469/469 [==============================] - 5s 11ms/step - loss: 0.1023 - accuracy: 0.9640\n",
            "Epoch 46/50\n",
            "469/469 [==============================] - 5s 11ms/step - loss: 0.0989 - accuracy: 0.9653\n",
            "Epoch 47/50\n",
            "469/469 [==============================] - 5s 11ms/step - loss: 0.1002 - accuracy: 0.9648\n",
            "Epoch 48/50\n",
            "469/469 [==============================] - 5s 11ms/step - loss: 0.0959 - accuracy: 0.9671\n",
            "Epoch 49/50\n",
            "469/469 [==============================] - 5s 11ms/step - loss: 0.0965 - accuracy: 0.9664\n",
            "Epoch 50/50\n",
            "469/469 [==============================] - 5s 11ms/step - loss: 0.0950 - accuracy: 0.9667\n"
          ]
        },
        {
          "output_type": "execute_result",
          "data": {
            "text/plain": [
              "<keras.callbacks.History at 0x7f18c51b1610>"
            ]
          },
          "metadata": {},
          "execution_count": 12
        }
      ]
    },
    {
      "cell_type": "code",
      "source": [
        "import numpy as np\n",
        "from keras.utils import load_img\n",
        "from keras.utils import img_to_array\n",
        "img=load_img('/content/balo-fedom-fido.jpg',target_size=(28*28))\n",
        "plt.imshow(img)\n",
        "img=img_to_array(img)\n",
        "img=img[:,:,0]\n",
        "img=img.reshape(1,784784)\n",
        "img=img.astype('float32')\n",
        "img=img/255\n",
        "print(np.argmax(model.predict(img),axis=1)\n",
        "print(model.predict(images))"
      ],
      "metadata": {
        "id": "PTZ1I5k9PJnw"
      },
      "execution_count": null,
      "outputs": []
    }
  ]
}
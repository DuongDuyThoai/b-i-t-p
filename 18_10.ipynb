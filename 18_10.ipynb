{
  "nbformat": 4,
  "nbformat_minor": 0,
  "metadata": {
    "colab": {
      "provenance": [],
      "collapsed_sections": [],
      "authorship_tag": "ABX9TyMI2tFE7syh0ylog/hqAdyo",
      "include_colab_link": true
    },
    "kernelspec": {
      "name": "python3",
      "display_name": "Python 3"
    },
    "language_info": {
      "name": "python"
    },
    "accelerator": "GPU"
  },
  "cells": [
    {
      "cell_type": "markdown",
      "metadata": {
        "id": "view-in-github",
        "colab_type": "text"
      },
      "source": [
        "<a href=\"https://colab.research.google.com/github/DuongDuyThoai/bai-tap-AI/blob/main/18_10.ipynb\" target=\"_parent\"><img src=\"https://colab.research.google.com/assets/colab-badge.svg\" alt=\"Open In Colab\"/></a>"
      ]
    },
    {
      "cell_type": "code",
      "source": [
        "from keras.datasets import mnist\n",
        "(train_images, train_labels), (test_images, test_labels) = mnist.load_data()\n",
        "train_images.shape"
      ],
      "metadata": {
        "id": "SoTfcvAx909t",
        "outputId": "66f49762-f4f8-4f12-fd3b-62cbe4d88766",
        "colab": {
          "base_uri": "https://localhost:8080/"
        }
      },
      "execution_count": null,
      "outputs": [
        {
          "output_type": "stream",
          "name": "stdout",
          "text": [
            "Downloading data from https://storage.googleapis.com/tensorflow/tf-keras-datasets/mnist.npz\n",
            "11490434/11490434 [==============================] - 1s 0us/step\n"
          ]
        },
        {
          "output_type": "execute_result",
          "data": {
            "text/plain": [
              "(60000, 28, 28)"
            ]
          },
          "metadata": {},
          "execution_count": 1
        }
      ]
    },
    {
      "cell_type": "code",
      "source": [
        "train_labels.shape"
      ],
      "metadata": {
        "colab": {
          "base_uri": "https://localhost:8080/"
        },
        "id": "xv9VO5puil0Y",
        "outputId": "8019f413-9775-4071-da45-7ac48f1c6e91"
      },
      "execution_count": null,
      "outputs": [
        {
          "output_type": "execute_result",
          "data": {
            "text/plain": [
              "(60000,)"
            ]
          },
          "metadata": {},
          "execution_count": 2
        }
      ]
    },
    {
      "cell_type": "code",
      "source": [
        "test_images.shape"
      ],
      "metadata": {
        "colab": {
          "base_uri": "https://localhost:8080/"
        },
        "id": "5XflDcOOirfQ",
        "outputId": "51ae0816-9370-4be8-c3b0-74f97ffcdae5"
      },
      "execution_count": null,
      "outputs": [
        {
          "output_type": "execute_result",
          "data": {
            "text/plain": [
              "(10000, 28, 28)"
            ]
          },
          "metadata": {},
          "execution_count": 3
        }
      ]
    },
    {
      "cell_type": "code",
      "source": [
        "test_labels.shape"
      ],
      "metadata": {
        "colab": {
          "base_uri": "https://localhost:8080/"
        },
        "id": "Vp87MQD8iuuQ",
        "outputId": "23b0ba9f-102b-4b8f-b48a-b4db9b46303a"
      },
      "execution_count": null,
      "outputs": [
        {
          "output_type": "execute_result",
          "data": {
            "text/plain": [
              "(10000,)"
            ]
          },
          "metadata": {},
          "execution_count": 4
        }
      ]
    },
    {
      "cell_type": "code",
      "source": [
        "import matplotlib.pyplot as plt\n",
        "plt.imshow(train_images[50])\n",
        "plt.show\n"
      ],
      "metadata": {
        "colab": {
          "base_uri": "https://localhost:8080/",
          "height": 282
        },
        "id": "BXVUSdRv4lrU",
        "outputId": "3dd3bdf2-3608-4a36-8c76-158d64ea9a9e"
      },
      "execution_count": null,
      "outputs": [
        {
          "output_type": "execute_result",
          "data": {
            "text/plain": [
              "<function matplotlib.pyplot.show(*args, **kw)>"
            ]
          },
          "metadata": {},
          "execution_count": 5
        },
        {
          "output_type": "display_data",
          "data": {
            "text/plain": [
              "<Figure size 432x288 with 1 Axes>"
            ],
            "image/png": "[encoded data removed]"
          },
          "metadata": {
            "needs_background": "light"
          }
        }
      ]
    },
    {
      "cell_type": "code",
      "source": [
        "from keras.layers.serialization import activation\n",
        "from keras import models\n",
        "from keras import layers\n",
        "from keras.utils import to_categorical\n",
        "model = models.Sequential()\n",
        "model.add(layers.Dense(512,activation='relu',input_shape=(28*28,)))\n",
        "model.add(layers.Dense(10,activation='softmax'))\n",
        "model.summary()\n",
        "train_images = train_images.reshape((60000,28*28))\n",
        "train_images = train_images.astype('float32')/255\n",
        "test_images = test_images.reshape(10000,28*28)\n",
        "test_images = test_images.astype('float32')/255\n",
        "train_labels = to_categorical(train_labels)\n",
        "test_labels = to_categorical(test_labels)\n",
        "model.compile(optimizer='rmsprop',loss='categorical_crossentropy' , metrics= 'accuracy' )\n",
        "model.fit(train_images,train_labels,epochs=50,batch_size=128)"
      ],
      "metadata": {
        "id": "n8EGiDJhFZHH",
        "outputId": "a7a2acf1-6d2d-4c3d-edac-00c3ef19dde1",
        "colab": {
          "base_uri": "https://localhost:8080/"
        }
      },
      "execution_count": null,
      "outputs": [
        {
          "output_type": "stream",
          "name": "stdout",
          "text": [
            "Model: \"sequential\"\n",
            "_________________________________________________________________\n",
            " Layer (type)                Output Shape              Param #   \n",
            "=================================================================\n",
            " dense (Dense)               (None, 512)               401920    \n",
            "                                                                 \n",
            " dense_1 (Dense)             (None, 10)                5130      \n",
            "                                                                 \n",
            "=================================================================\n",
            "Total params: 407,050\n",
            "Trainable params: 407,050\n",
            "Non-trainable params: 0\n",
            "_________________________________________________________________\n",
            "Epoch 1/50\n",
            "469/469 [==============================] - 4s 3ms/step - loss: 0.2539 - accuracy: 0.9264\n",
            "Epoch 2/50\n",
            "469/469 [==============================] - 1s 3ms/step - loss: 0.1021 - accuracy: 0.9695\n",
            "Epoch 3/50\n",
            "469/469 [==============================] - 1s 3ms/step - loss: 0.0672 - accuracy: 0.9799\n",
            "Epoch 4/50\n",
            "469/469 [==============================] - 1s 3ms/step - loss: 0.0489 - accuracy: 0.9853\n",
            "Epoch 5/50\n",
            "469/469 [==============================] - 1s 3ms/step - loss: 0.0368 - accuracy: 0.9890\n",
            "Epoch 6/50\n",
            "469/469 [==============================] - 1s 3ms/step - loss: 0.0278 - accuracy: 0.9916\n",
            "Epoch 7/50\n",
            "469/469 [==============================] - 1s 3ms/step - loss: 0.0220 - accuracy: 0.9937\n",
            "Epoch 8/50\n",
            "469/469 [==============================] - 2s 4ms/step - loss: 0.0171 - accuracy: 0.9947\n",
            "Epoch 9/50\n",
            "469/469 [==============================] - 3s 6ms/step - loss: 0.0129 - accuracy: 0.9962\n",
            "Epoch 10/50\n",
            "469/469 [==============================] - 2s 5ms/step - loss: 0.0100 - accuracy: 0.9973\n",
            "Epoch 11/50\n",
            "469/469 [==============================] - 2s 5ms/step - loss: 0.0078 - accuracy: 0.9979\n",
            "Epoch 12/50\n",
            "469/469 [==============================] - 3s 6ms/step - loss: 0.0060 - accuracy: 0.9985\n",
            "Epoch 13/50\n",
            "469/469 [==============================] - 3s 5ms/step - loss: 0.0048 - accuracy: 0.9987\n",
            "Epoch 14/50\n",
            "469/469 [==============================] - 2s 3ms/step - loss: 0.0040 - accuracy: 0.9990\n",
            "Epoch 15/50\n",
            "469/469 [==============================] - 2s 3ms/step - loss: 0.0033 - accuracy: 0.9991\n",
            "Epoch 16/50\n",
            "469/469 [==============================] - 2s 3ms/step - loss: 0.0024 - accuracy: 0.9994\n",
            "Epoch 17/50\n",
            "469/469 [==============================] - 2s 3ms/step - loss: 0.0018 - accuracy: 0.9995\n",
            "Epoch 18/50\n",
            "469/469 [==============================] - 2s 3ms/step - loss: 0.0017 - accuracy: 0.9995\n",
            "Epoch 19/50\n",
            "469/469 [==============================] - 2s 3ms/step - loss: 0.0014 - accuracy: 0.9996\n",
            "Epoch 20/50\n",
            "469/469 [==============================] - 2s 3ms/step - loss: 0.0010 - accuracy: 0.9997\n",
            "Epoch 21/50\n",
            "469/469 [==============================] - 1s 3ms/step - loss: 8.4563e-04 - accuracy: 0.9998\n",
            "Epoch 22/50\n",
            "469/469 [==============================] - 2s 3ms/step - loss: 6.8009e-04 - accuracy: 0.9998\n",
            "Epoch 23/50\n",
            "469/469 [==============================] - 2s 4ms/step - loss: 5.5477e-04 - accuracy: 0.9999\n",
            "Epoch 24/50\n",
            "469/469 [==============================] - 2s 5ms/step - loss: 4.4103e-04 - accuracy: 0.9999\n",
            "Epoch 25/50\n",
            "469/469 [==============================] - 1s 3ms/step - loss: 4.5376e-04 - accuracy: 0.9999\n",
            "Epoch 26/50\n",
            "469/469 [==============================] - 2s 3ms/step - loss: 2.1730e-04 - accuracy: 1.0000\n",
            "Epoch 27/50\n",
            "469/469 [==============================] - 2s 3ms/step - loss: 2.0806e-04 - accuracy: 0.9999\n",
            "Epoch 28/50\n",
            "469/469 [==============================] - 2s 3ms/step - loss: 2.1146e-04 - accuracy: 0.9999\n",
            "Epoch 29/50\n",
            "469/469 [==============================] - 2s 3ms/step - loss: 1.4472e-04 - accuracy: 1.0000\n",
            "Epoch 30/50\n",
            "469/469 [==============================] - 2s 3ms/step - loss: 1.2611e-04 - accuracy: 1.0000\n",
            "Epoch 31/50\n",
            "469/469 [==============================] - 2s 3ms/step - loss: 1.2161e-04 - accuracy: 1.0000\n",
            "Epoch 32/50\n",
            "469/469 [==============================] - 2s 3ms/step - loss: 1.0716e-04 - accuracy: 1.0000\n",
            "Epoch 33/50\n",
            "469/469 [==============================] - 2s 3ms/step - loss: 4.5345e-05 - accuracy: 1.0000\n",
            "Epoch 34/50\n",
            "469/469 [==============================] - 1s 3ms/step - loss: 3.2753e-05 - accuracy: 1.0000\n",
            "Epoch 35/50\n",
            "469/469 [==============================] - 2s 3ms/step - loss: 7.7204e-05 - accuracy: 1.0000\n",
            "Epoch 36/50\n",
            "469/469 [==============================] - 2s 3ms/step - loss: 2.9948e-05 - accuracy: 1.0000\n",
            "Epoch 37/50\n",
            "469/469 [==============================] - 2s 3ms/step - loss: 6.8322e-05 - accuracy: 1.0000\n",
            "Epoch 38/50\n",
            "469/469 [==============================] - 2s 3ms/step - loss: 2.6610e-05 - accuracy: 1.0000\n",
            "Epoch 39/50\n",
            "469/469 [==============================] - 2s 3ms/step - loss: 4.8923e-06 - accuracy: 1.0000\n",
            "Epoch 40/50\n",
            "469/469 [==============================] - 2s 3ms/step - loss: 8.5485e-05 - accuracy: 1.0000\n",
            "Epoch 41/50\n",
            "469/469 [==============================] - 1s 3ms/step - loss: 1.2835e-06 - accuracy: 1.0000\n",
            "Epoch 42/50\n",
            "469/469 [==============================] - 1s 3ms/step - loss: 6.8745e-05 - accuracy: 1.0000\n",
            "Epoch 43/50\n",
            "469/469 [==============================] - 2s 3ms/step - loss: 1.6154e-07 - accuracy: 1.0000\n",
            "Epoch 44/50\n",
            "469/469 [==============================] - 2s 3ms/step - loss: 4.7727e-08 - accuracy: 1.0000\n",
            "Epoch 45/50\n",
            "469/469 [==============================] - 2s 3ms/step - loss: 3.1334e-08 - accuracy: 1.0000\n",
            "Epoch 46/50\n",
            "469/469 [==============================] - 2s 3ms/step - loss: 2.2437e-08 - accuracy: 1.0000\n",
            "Epoch 47/50\n",
            "469/469 [==============================] - 2s 3ms/step - loss: 1.9705e-08 - accuracy: 1.0000\n",
            "Epoch 48/50\n",
            "469/469 [==============================] - 2s 3ms/step - loss: 1.7714e-08 - accuracy: 1.0000\n",
            "Epoch 49/50\n",
            "469/469 [==============================] - 2s 3ms/step - loss: 1.6334e-08 - accuracy: 1.0000\n",
            "Epoch 50/50\n",
            "469/469 [==============================] - 2s 3ms/step - loss: 1.5020e-08 - accuracy: 1.0000\n"
          ]
        },
        {
          "output_type": "execute_result",
          "data": {
            "text/plain": [
              "<keras.callbacks.History at 0x7fa35e3a29d0>"
            ]
          },
          "metadata": {},
          "execution_count": 6
        }
      ]
    },
    {
      "cell_type": "code",
      "source": [
        "test_loss,test_evaluate=(test_images,test_labels)\n",
        "print('Test_accuracy',test_evaluate)"
      ],
      "metadata": {
        "id": "IGHO4rkbGdsw",
        "colab": {
          "base_uri": "https://localhost:8080/"
        },
        "outputId": "d7f4117e-9dd2-401b-dd7b-bbe7fc58a67d"
      },
      "execution_count": null,
      "outputs": [
        {
          "output_type": "stream",
          "name": "stdout",
          "text": [
            "Test_accuracy [[0. 0. 0. ... 1. 0. 0.]\n",
            " [0. 0. 1. ... 0. 0. 0.]\n",
            " [0. 1. 0. ... 0. 0. 0.]\n",
            " ...\n",
            " [0. 0. 0. ... 0. 0. 0.]\n",
            " [0. 0. 0. ... 0. 0. 0.]\n",
            " [0. 0. 0. ... 0. 0. 0.]]\n"
          ]
        }
      ]
    }
  ]
}
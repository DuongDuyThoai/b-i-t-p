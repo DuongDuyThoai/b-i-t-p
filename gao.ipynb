{
  "nbformat": 4,
  "nbformat_minor": 0,
  "metadata": {
    "colab": {
      "provenance": [],
      "authorship_tag": "ABX9TyNuwFM50E6I7HuXvfvfjozH",
      "include_colab_link": true
    },
    "kernelspec": {
      "name": "python3",
      "display_name": "Python 3"
    },
    "language_info": {
      "name": "python"
    },
    "gpuClass": "standard",
    "accelerator": "GPU"
  },
  "cells": [
    {
      "cell_type": "markdown",
      "metadata": {
        "id": "view-in-github",
        "colab_type": "text"
      },
      "source": [
        "<a href=\"https://colab.research.google.com/github/DuongDuyThoai/bai-tap-AI/blob/main/gao.ipynb\" target=\"_parent\"><img src=\"https://colab.research.google.com/assets/colab-badge.svg\" alt=\"Open In Colab\"/></a>"
      ]
    },
    {
      "cell_type": "code",
      "execution_count": null,
      "metadata": {
        "id": "w03P5MHrl1yp"
      },
      "outputs": [],
      "source": [
        "from sklearn.model_selection import train_test_split\n",
        "import matplotlib.pyplot as plt\n",
        "import numpy as np\n",
        "import tensorflow as tf\n",
        "from keras.utils import np_utils\n",
        "from keras.models import Sequential\n",
        "from keras.layers import Dense, Activation, Dropout, Conv2D, MaxPooling2D, Flatten\n",
        "from tensorflow.keras.optimizers import SGD, RMSprop\n",
        "from keras.callbacks import EarlyStopping\n",
        "from sklearn.utils import validation \n",
        "from sklearn import preprocessing\n",
        "from tensorflow.keras.utils import to_categorical\n",
        "from tensorflow.keras.models import load_model\n",
        "from tensorflow.keras.utils import load_img, img_to_array\n",
        "from tensorflow.keras.preprocessing.image import ImageDataGenerator"
      ]
    },
    {
      "cell_type": "code",
      "source": [
        "from google.colab import drive\n",
        "drive.mount('/content/gdrive')"
      ],
      "metadata": {
        "colab": {
          "base_uri": "https://localhost:8080/"
        },
        "id": "BiAY_YSqmO4r",
        "outputId": "3036c45c-bcd7-4247-8ac3-ad8d869d1e72"
      },
      "execution_count": null,
      "outputs": [
        {
          "output_type": "stream",
          "name": "stdout",
          "text": [
            "Mounted at /content/gdrive\n"
          ]
        }
      ]
    },
    {
      "cell_type": "code",
      "source": [
        "%cd /content/gdrive/MyDrive/Colab Notebooks/gao"
      ],
      "metadata": {
        "colab": {
          "base_uri": "https://localhost:8080/"
        },
        "id": "ReSD25WpmSfG",
        "outputId": "02fd601d-09d5-400c-831e-f67ff9b710a3"
      },
      "execution_count": null,
      "outputs": [
        {
          "output_type": "stream",
          "name": "stdout",
          "text": [
            "/content/gdrive/MyDrive/Colab Notebooks/gao\n"
          ]
        }
      ]
    },
    {
      "cell_type": "code",
      "source": [
        "train_datagen=ImageDataGenerator(rescale=1./255, shear_range=0.2, zoom_range=0.2, horizontal_flip=True)"
      ],
      "metadata": {
        "id": "2FpFq_zZmdsf"
      },
      "execution_count": null,
      "outputs": []
    },
    {
      "cell_type": "code",
      "source": [
        "training_set=train_datagen.flow_from_directory('/content/gdrive/MyDrive/Colab Notebooks/gao/train',target_size=(150,150), batch_size=32, class_mode='categorical')"
      ],
      "metadata": {
        "colab": {
          "base_uri": "https://localhost:8080/"
        },
        "id": "MnMlMhJSmhJj",
        "outputId": "af5df54c-f9ad-4269-9c2b-8112451b0316"
      },
      "execution_count": null,
      "outputs": [
        {
          "output_type": "stream",
          "name": "stdout",
          "text": [
            "Found 1000 images belonging to 5 classes.\n"
          ]
        }
      ]
    },
    {
      "cell_type": "code",
      "source": [
        "test_set = train_datagen.flow_from_directory('/content/gdrive/MyDrive/Colab Notebooks/gao/test',target_size=(150,150), batch_size=32, class_mode='categorical')"
      ],
      "metadata": {
        "colab": {
          "base_uri": "https://localhost:8080/"
        },
        "id": "XukxVowzmoCl",
        "outputId": "b33f7e89-a566-4316-fd7e-2790e6b9e425"
      },
      "execution_count": null,
      "outputs": [
        {
          "output_type": "stream",
          "name": "stdout",
          "text": [
            "Found 250 images belonging to 5 classes.\n"
          ]
        }
      ]
    },
    {
      "cell_type": "code",
      "source": [
        "training_set.class_indices"
      ],
      "metadata": {
        "colab": {
          "base_uri": "https://localhost:8080/"
        },
        "id": "F7vwHUSKmvJe",
        "outputId": "23578597-7308-4983-b426-c731468d5716"
      },
      "execution_count": null,
      "outputs": [
        {
          "output_type": "execute_result",
          "data": {
            "text/plain": [
              "{'Arborio': 0, 'Basmati': 1, 'Ipsala': 2, 'Jasmine': 3, 'Karacadag': 4}"
            ]
          },
          "metadata": {},
          "execution_count": 7
        }
      ]
    },
    {
      "cell_type": "code",
      "source": [
        "test_set.class_indices"
      ],
      "metadata": {
        "colab": {
          "base_uri": "https://localhost:8080/"
        },
        "id": "2RmHbUhpmzLz",
        "outputId": "d9250808-24b3-4997-9aa0-5d61c4ab87f5"
      },
      "execution_count": null,
      "outputs": [
        {
          "output_type": "execute_result",
          "data": {
            "text/plain": [
              "{'Arborio': 0, 'Basmati': 1, 'Ipsala': 2, 'Jasmine': 3, 'Karacadag': 4}"
            ]
          },
          "metadata": {},
          "execution_count": 8
        }
      ]
    },
    {
      "cell_type": "code",
      "source": [
        "model=Sequential()\n",
        "\n",
        "model.add(Conv2D(32,(3,3), activation='relu', kernel_initializer='he_uniform', padding='same',input_shape=(150,150,3))) \n",
        "model.add(Conv2D(32,(3,3), activation='relu', kernel_initializer='he_uniform', padding='same'))\n",
        "model.add(MaxPooling2D(2,2))\n",
        "model.add(Conv2D(64,(3,3), activation='relu', kernel_initializer='he_uniform', padding='same',input_shape=(150,150,3))) \n",
        "model.add(Conv2D(64,(3,3), activation='relu', kernel_initializer='he_uniform', padding='same'))\n",
        "model.add(MaxPooling2D(2,2))\n",
        "model.add(Conv2D(128,(3,3), activation='relu', kernel_initializer='he_uniform', padding='same',input_shape=(150,150,3))) \n",
        "model.add(Conv2D(128,(3,3), activation='relu', kernel_initializer='he_uniform', padding='same'))\n",
        "model.add(MaxPooling2D(2,2))\n",
        "model.add(Flatten())\n",
        "model.add(Dense(128,activation='relu',kernel_initializer='he_uniform'))\n",
        "model.add(Dropout(0.2))\n",
        "model.add(Dense(5,activation='softmax'))\n",
        "model.summary()"
      ],
      "metadata": {
        "colab": {
          "base_uri": "https://localhost:8080/"
        },
        "id": "BkYyiJh5m111",
        "outputId": "99622954-41e8-4275-dac0-fbe4e05a7c6b"
      },
      "execution_count": null,
      "outputs": [
        {
          "output_type": "stream",
          "name": "stdout",
          "text": [
            "Model: \"sequential\"\n",
            "_________________________________________________________________\n",
            " Layer (type)                Output Shape              Param #   \n",
            "=================================================================\n",
            " conv2d (Conv2D)             (None, 150, 150, 32)      896       \n",
            "                                                                 \n",
            " conv2d_1 (Conv2D)           (None, 150, 150, 32)      9248      \n",
            "                                                                 \n",
            " max_pooling2d (MaxPooling2D  (None, 75, 75, 32)       0         \n",
            " )                                                               \n",
            "                                                                 \n",
            " conv2d_2 (Conv2D)           (None, 75, 75, 64)        18496     \n",
            "                                                                 \n",
            " conv2d_3 (Conv2D)           (None, 75, 75, 64)        36928     \n",
            "                                                                 \n",
            " max_pooling2d_1 (MaxPooling  (None, 37, 37, 64)       0         \n",
            " 2D)                                                             \n",
            "                                                                 \n",
            " conv2d_4 (Conv2D)           (None, 37, 37, 128)       73856     \n",
            "                                                                 \n",
            " conv2d_5 (Conv2D)           (None, 37, 37, 128)       147584    \n",
            "                                                                 \n",
            " max_pooling2d_2 (MaxPooling  (None, 18, 18, 128)      0         \n",
            " 2D)                                                             \n",
            "                                                                 \n",
            " flatten (Flatten)           (None, 41472)             0         \n",
            "                                                                 \n",
            " dense (Dense)               (None, 128)               5308544   \n",
            "                                                                 \n",
            " dropout (Dropout)           (None, 128)               0         \n",
            "                                                                 \n",
            " dense_1 (Dense)             (None, 5)                 645       \n",
            "                                                                 \n",
            "=================================================================\n",
            "Total params: 5,596,197\n",
            "Trainable params: 5,596,197\n",
            "Non-trainable params: 0\n",
            "_________________________________________________________________\n"
          ]
        }
      ]
    },
    {
      "cell_type": "code",
      "source": [
        "model.compile(optimizer='adam',loss='categorical_crossentropy',metrics=['accuracy'])\n",
        "model.fit(training_set,epochs=100,batch_size=128,verbose=1)"
      ],
      "metadata": {
        "colab": {
          "base_uri": "https://localhost:8080/"
        },
        "id": "NXBcV_1Im6HE",
        "outputId": "81b4236c-dd9f-4617-c58a-a381b5b2de18"
      },
      "execution_count": null,
      "outputs": [
        {
          "output_type": "stream",
          "name": "stdout",
          "text": [
            "32/32 [==============================] - 7s 227ms/step - loss: 0.0263 - accuracy: 0.9870\n",
            "Epoch 90/100\n",
            "32/32 [==============================] - 7s 229ms/step - loss: 0.0113 - accuracy: 0.9940\n",
            "Epoch 91/100\n",
            "32/32 [==============================] - 7s 234ms/step - loss: 0.0122 - accuracy: 0.9970\n",
            "Epoch 92/100\n",
            "32/32 [==============================] - 8s 258ms/step - loss: 0.0249 - accuracy: 0.9910\n",
            "Epoch 93/100\n",
            "32/32 [==============================] - 7s 228ms/step - loss: 0.0321 - accuracy: 0.9900\n",
            "Epoch 94/100\n",
            "32/32 [==============================] - 7s 228ms/step - loss: 0.0207 - accuracy: 0.9910\n",
            "Epoch 95/100\n",
            "32/32 [==============================] - 7s 233ms/step - loss: 0.0360 - accuracy: 0.9840\n",
            "Epoch 96/100\n",
            "32/32 [==============================] - 7s 225ms/step - loss: 0.0282 - accuracy: 0.9880\n",
            "Epoch 97/100\n",
            "32/32 [==============================] - 7s 224ms/step - loss: 0.0398 - accuracy: 0.9870\n",
            "Epoch 98/100\n",
            "32/32 [==============================] - 7s 232ms/step - loss: 0.0250 - accuracy: 0.9900\n",
            "Epoch 99/100\n",
            "32/32 [==============================] - 7s 223ms/step - loss: 0.0650 - accuracy: 0.9840\n",
            "Epoch 100/100\n",
            "32/32 [==============================] - 7s 224ms/step - loss: 0.0444 - accuracy: 0.9880\n"
          ]
        },
        {
          "output_type": "execute_result",
          "data": {
            "text/plain": [
              "<keras.callbacks.History at 0x7f029078af10>"
            ]
          },
          "metadata": {},
          "execution_count": 11
        }
      ]
    },
    {
      "cell_type": "code",
      "source": [
        "model.save('GAO.h5')"
      ],
      "metadata": {
        "id": "PhIFBv0TnFcv"
      },
      "execution_count": null,
      "outputs": []
    },
    {
      "cell_type": "code",
      "source": [
        "model_gao = load_model('GAO.h5')"
      ],
      "metadata": {
        "id": "ztOD-c8QnH9b"
      },
      "execution_count": null,
      "outputs": []
    },
    {
      "cell_type": "code",
      "source": [
        "Score=model.evaluate(training_set,verbose=0)\n",
        "print('Train Loss', Score[0])\n",
        "print('Train Accuracy', Score[1])"
      ],
      "metadata": {
        "colab": {
          "base_uri": "https://localhost:8080/"
        },
        "id": "m-skX5PZnPr1",
        "outputId": "e9a23de2-c8cd-44bb-aac3-7d2274e17bd0"
      },
      "execution_count": null,
      "outputs": [
        {
          "output_type": "stream",
          "name": "stdout",
          "text": [
            "Train Loss 0.013696493580937386\n",
            "Train Accuracy 0.9940000176429749\n"
          ]
        }
      ]
    },
    {
      "cell_type": "code",
      "source": [
        "img = load_img('/content/1.jpg',target_size = (150,150))\n",
        "plt.imshow(img)\n",
        "img=img_to_array(img)\n",
        "img=img.astype('float32')\n",
        "img=img/255\n",
        "img=np.expand_dims(img,axis=0)\n",
        "result=model_gao.predict(img)\n",
        "class_gao=['Arborio', 'Basmati', 'Ipsala', 'Jasmine', 'Karacadag']\n",
        "a= int(np.argmax(model.predict(img),axis=1))\n",
        "print(\"Đây là loại gạo :\", class_gao[a])"
      ],
      "metadata": {
        "colab": {
          "base_uri": "https://localhost:8080/",
          "height": 321
        },
        "id": "-28OuADcnT9z",
        "outputId": "a8dc9d48-7249-4900-df49-18deaace193b"
      },
      "execution_count": null,
      "outputs": [
        {
          "output_type": "stream",
          "name": "stdout",
          "text": [
            "1/1 [==============================] - 0s 207ms/step\n",
            "1/1 [==============================] - 0s 139ms/step\n",
            "Đây là loại gạo : Jasmine\n"
          ]
        },
        {
          "output_type": "display_data",
          "data": {
            "text/plain": [
              "<Figure size 432x288 with 1 Axes>"
            ],
            "image/png": "[encoded data removed]"
          },
          "metadata": {
            "needs_background": "light"
          }
        }
      ]
    },
    {
      "cell_type": "code",
      "source": [
        "img = load_img('/content/2.jpg',target_size = (150,150))\n",
        "plt.imshow(img)\n",
        "img=img_to_array(img)\n",
        "img=img.astype('float32')\n",
        "img=img/255\n",
        "img=np.expand_dims(img,axis=0)\n",
        "result=model_gao.predict(img)\n",
        "class_gao=['Arborio', 'Basmati', 'Ipsala', 'Jasmine', 'Karacadag']\n",
        "a= int(np.argmax(model.predict(img),axis=1))\n",
        "print(\"Đây là loại gạo :\", class_gao[a])"
      ],
      "metadata": {
        "colab": {
          "base_uri": "https://localhost:8080/",
          "height": 321
        },
        "id": "vO2_ZjLQiu-y",
        "outputId": "f404b345-996e-436e-c61f-de4bf4554e1d"
      },
      "execution_count": null,
      "outputs": [
        {
          "output_type": "stream",
          "name": "stdout",
          "text": [
            "1/1 [==============================] - 0s 59ms/step\n",
            "1/1 [==============================] - 0s 59ms/step\n",
            "Đây là loại gạo : Arborio\n"
          ]
        },
        {
          "output_type": "display_data",
          "data": {
            "text/plain": [
              "<Figure size 432x288 with 1 Axes>"
            ],
            "image/png": "[encoded data removed]"
          },
          "metadata": {
            "needs_background": "light"
          }
        }
      ]
    },
    {
      "cell_type": "code",
      "source": [
        "!jupyter nbconvert --to html \"/content/gao.ipynb\""
      ],
      "metadata": {
        "id": "jw_VgCjBmeLe",
        "colab": {
          "base_uri": "https://localhost:8080/"
        },
        "outputId": "686b043d-fb5f-493a-c8b6-4cb0fbb4141f"
      },
      "execution_count": null,
      "outputs": [
        {
          "output_type": "stream",
          "name": "stdout",
          "text": [
            "[NbConvertApp] Converting notebook /content/gao.ipynb to html\n",
            "[NbConvertApp] Writing 342904 bytes to /content/gao.html\n"
          ]
        }
      ]
    }
  ]
}
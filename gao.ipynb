{
  "nbformat": 4,
  "nbformat_minor": 0,
  "metadata": {
    "colab": {
      "provenance": [],
      "authorship_tag": "ABX9TyMgjGarUbUR0j814F556xCc",
      "include_colab_link": true
    },
    "kernelspec": {
      "name": "python3",
      "display_name": "Python 3"
    },
    "language_info": {
      "name": "python"
    },
    "accelerator": "GPU",
    "gpuClass": "standard"
  },
  "cells": [
    {
      "cell_type": "markdown",
      "metadata": {
        "id": "view-in-github",
        "colab_type": "text"
      },
      "source": [
        "<a href=\"https://colab.research.google.com/github/DuongDuyThoai/bai-tap-AI/blob/main/gao.ipynb\" target=\"_parent\"><img src=\"https://colab.research.google.com/assets/colab-badge.svg\" alt=\"Open In Colab\"/></a>"
      ]
    },
    {
      "cell_type": "code",
      "execution_count": 1,
      "metadata": {
        "id": "w03P5MHrl1yp"
      },
      "outputs": [],
      "source": [
        "from sklearn.model_selection import train_test_split\n",
        "import matplotlib.pyplot as plt\n",
        "import numpy as np\n",
        "import tensorflow as tf\n",
        "from keras.utils import np_utils\n",
        "from keras.models import Sequential\n",
        "from keras.layers import Dense, Activation, Dropout, Conv2D, MaxPooling2D, Flatten\n",
        "from tensorflow.keras.optimizers import SGD, RMSprop\n",
        "from keras.callbacks import EarlyStopping\n",
        "from sklearn.utils import validation \n",
        "from sklearn import preprocessing\n",
        "from tensorflow.keras.utils import to_categorical\n",
        "from tensorflow.keras.models import load_model\n",
        "from tensorflow.keras.utils import load_img, img_to_array\n",
        "from tensorflow.keras.preprocessing.image import ImageDataGenerator"
      ]
    },
    {
      "cell_type": "code",
      "source": [
        "from google.colab import drive\n",
        "drive.mount('/content/gdrive')"
      ],
      "metadata": {
        "colab": {
          "base_uri": "https://localhost:8080/"
        },
        "id": "BiAY_YSqmO4r",
        "outputId": "b524d2c6-fd4d-46d8-8cc4-7ec6cb6ff06c"
      },
      "execution_count": 2,
      "outputs": [
        {
          "output_type": "stream",
          "name": "stdout",
          "text": [
            "Mounted at /content/gdrive\n"
          ]
        }
      ]
    },
    {
      "cell_type": "code",
      "source": [
        "%cd /content/gdrive/MyDrive/Colab Notebooks/gao"
      ],
      "metadata": {
        "colab": {
          "base_uri": "https://localhost:8080/"
        },
        "id": "ReSD25WpmSfG",
        "outputId": "e4e7348a-09f4-4278-fd36-71b135773a4e"
      },
      "execution_count": 3,
      "outputs": [
        {
          "output_type": "stream",
          "name": "stdout",
          "text": [
            "/content/gdrive/MyDrive/Colab Notebooks/gao\n"
          ]
        }
      ]
    },
    {
      "cell_type": "code",
      "source": [
        "train_datagen=ImageDataGenerator(rescale=1./255, shear_range=0.2, zoom_range=0.2, horizontal_flip=True)"
      ],
      "metadata": {
        "id": "2FpFq_zZmdsf"
      },
      "execution_count": 4,
      "outputs": []
    },
    {
      "cell_type": "code",
      "source": [
        "training_set=train_datagen.flow_from_directory('/content/gdrive/MyDrive/Colab Notebooks/gao/train',target_size=(150,150), batch_size=32, class_mode='categorical')"
      ],
      "metadata": {
        "colab": {
          "base_uri": "https://localhost:8080/"
        },
        "id": "MnMlMhJSmhJj",
        "outputId": "e79658ef-e4f6-4bd1-dc99-609345740478"
      },
      "execution_count": 5,
      "outputs": [
        {
          "output_type": "stream",
          "name": "stdout",
          "text": [
            "Found 1000 images belonging to 5 classes.\n"
          ]
        }
      ]
    },
    {
      "cell_type": "code",
      "source": [
        "test_set = train_datagen.flow_from_directory('/content/gdrive/MyDrive/Colab Notebooks/gao/test',target_size=(150,150), batch_size=32, class_mode='categorical')"
      ],
      "metadata": {
        "colab": {
          "base_uri": "https://localhost:8080/"
        },
        "id": "XukxVowzmoCl",
        "outputId": "4df45f45-fcb5-444a-b788-94471824c112"
      },
      "execution_count": 6,
      "outputs": [
        {
          "output_type": "stream",
          "name": "stdout",
          "text": [
            "Found 250 images belonging to 5 classes.\n"
          ]
        }
      ]
    },
    {
      "cell_type": "code",
      "source": [
        "training_set.class_indices"
      ],
      "metadata": {
        "colab": {
          "base_uri": "https://localhost:8080/"
        },
        "id": "F7vwHUSKmvJe",
        "outputId": "7848cb3c-2b24-42fb-f55a-c588b7dd09b4"
      },
      "execution_count": 7,
      "outputs": [
        {
          "output_type": "execute_result",
          "data": {
            "text/plain": [
              "{'Arborio': 0, 'Basmati': 1, 'Ipsala': 2, 'Jasmine': 3, 'Karacadag': 4}"
            ]
          },
          "metadata": {},
          "execution_count": 7
        }
      ]
    },
    {
      "cell_type": "code",
      "source": [
        "test_set.class_indices"
      ],
      "metadata": {
        "colab": {
          "base_uri": "https://localhost:8080/"
        },
        "id": "2RmHbUhpmzLz",
        "outputId": "c3891c82-611c-4452-9d2a-4f7922ab82a3"
      },
      "execution_count": 8,
      "outputs": [
        {
          "output_type": "execute_result",
          "data": {
            "text/plain": [
              "{'Arborio': 0, 'Basmati': 1, 'Ipsala': 2, 'Jasmine': 3, 'Karacadag': 4}"
            ]
          },
          "metadata": {},
          "execution_count": 8
        }
      ]
    },
    {
      "cell_type": "code",
      "source": [
        "model=Sequential()\n",
        "\n",
        "model.add(Conv2D(32,(3,3), activation='relu', kernel_initializer='he_uniform', padding='same',input_shape=(150,150,3))) \n",
        "model.add(Conv2D(32,(3,3), activation='relu', kernel_initializer='he_uniform', padding='same'))\n",
        "model.add(MaxPooling2D(2,2))\n",
        "model.add(Conv2D(64,(3,3), activation='relu', kernel_initializer='he_uniform', padding='same',input_shape=(150,150,3))) \n",
        "model.add(Conv2D(64,(3,3), activation='relu', kernel_initializer='he_uniform', padding='same'))\n",
        "model.add(MaxPooling2D(2,2))\n",
        "model.add(Conv2D(128,(3,3), activation='relu', kernel_initializer='he_uniform', padding='same',input_shape=(150,150,3))) \n",
        "model.add(Conv2D(128,(3,3), activation='relu', kernel_initializer='he_uniform', padding='same'))\n",
        "model.add(MaxPooling2D(2,2))\n",
        "model.add(Flatten())\n",
        "model.add(Dense(128,activation='relu',kernel_initializer='he_uniform'))\n",
        "model.add(Dropout(0.2))\n",
        "model.add(Dense(5,activation='softmax'))\n",
        "model.summary()"
      ],
      "metadata": {
        "colab": {
          "base_uri": "https://localhost:8080/"
        },
        "id": "BkYyiJh5m111",
        "outputId": "b1908570-a6da-4a54-feed-c00d35693528"
      },
      "execution_count": 10,
      "outputs": [
        {
          "output_type": "stream",
          "name": "stdout",
          "text": [
            "Model: \"sequential_1\"\n",
            "_________________________________________________________________\n",
            " Layer (type)                Output Shape              Param #   \n",
            "=================================================================\n",
            " conv2d_6 (Conv2D)           (None, 150, 150, 32)      896       \n",
            "                                                                 \n",
            " conv2d_7 (Conv2D)           (None, 150, 150, 32)      9248      \n",
            "                                                                 \n",
            " max_pooling2d_3 (MaxPooling  (None, 75, 75, 32)       0         \n",
            " 2D)                                                             \n",
            "                                                                 \n",
            " conv2d_8 (Conv2D)           (None, 75, 75, 64)        18496     \n",
            "                                                                 \n",
            " conv2d_9 (Conv2D)           (None, 75, 75, 64)        36928     \n",
            "                                                                 \n",
            " max_pooling2d_4 (MaxPooling  (None, 37, 37, 64)       0         \n",
            " 2D)                                                             \n",
            "                                                                 \n",
            " conv2d_10 (Conv2D)          (None, 37, 37, 128)       73856     \n",
            "                                                                 \n",
            " conv2d_11 (Conv2D)          (None, 37, 37, 128)       147584    \n",
            "                                                                 \n",
            " max_pooling2d_5 (MaxPooling  (None, 18, 18, 128)      0         \n",
            " 2D)                                                             \n",
            "                                                                 \n",
            " flatten_1 (Flatten)         (None, 41472)             0         \n",
            "                                                                 \n",
            " dense_2 (Dense)             (None, 128)               5308544   \n",
            "                                                                 \n",
            " dropout_1 (Dropout)         (None, 128)               0         \n",
            "                                                                 \n",
            " dense_3 (Dense)             (None, 5)                 645       \n",
            "                                                                 \n",
            "=================================================================\n",
            "Total params: 5,596,197\n",
            "Trainable params: 5,596,197\n",
            "Non-trainable params: 0\n",
            "_________________________________________________________________\n"
          ]
        }
      ]
    },
    {
      "cell_type": "code",
      "source": [
        "model.compile(optimizer='adam',loss='categorical_crossentropy',metrics=['accuracy'])\n",
        "model.fit(training_set,epochs=50,batch_size=128,verbose=1, validation_data=test_set, callbacks=[EarlyStopping(monitor='val_loss', patience=20)])"
      ],
      "metadata": {
        "colab": {
          "base_uri": "https://localhost:8080/"
        },
        "id": "NXBcV_1Im6HE",
        "outputId": "5daff664-c9ef-494d-aeb3-7af84b8d9a8b"
      },
      "execution_count": 13,
      "outputs": [
        {
          "output_type": "stream",
          "name": "stdout",
          "text": [
            "Epoch 1/50\n",
            "32/32 [==============================] - 165s 5s/step - loss: 0.1035 - accuracy: 0.9700 - val_loss: 0.1422 - val_accuracy: 0.9560\n",
            "Epoch 2/50\n",
            "32/32 [==============================] - 163s 5s/step - loss: 0.0816 - accuracy: 0.9710 - val_loss: 0.0484 - val_accuracy: 0.9880\n",
            "Epoch 3/50\n",
            "32/32 [==============================] - 163s 5s/step - loss: 0.0545 - accuracy: 0.9840 - val_loss: 0.0771 - val_accuracy: 0.9800\n",
            "Epoch 4/50\n",
            "32/32 [==============================] - 163s 5s/step - loss: 0.0637 - accuracy: 0.9750 - val_loss: 0.0683 - val_accuracy: 0.9720\n",
            "Epoch 5/50\n",
            "32/32 [==============================] - 162s 5s/step - loss: 0.0479 - accuracy: 0.9820 - val_loss: 0.0285 - val_accuracy: 0.9920\n",
            "Epoch 6/50\n",
            "32/32 [==============================] - 163s 5s/step - loss: 0.0696 - accuracy: 0.9760 - val_loss: 0.0672 - val_accuracy: 0.9680\n",
            "Epoch 7/50\n",
            "32/32 [==============================] - 162s 5s/step - loss: 0.1026 - accuracy: 0.9670 - val_loss: 0.0273 - val_accuracy: 0.9920\n",
            "Epoch 8/50\n",
            "32/32 [==============================] - 161s 5s/step - loss: 0.0487 - accuracy: 0.9810 - val_loss: 0.0958 - val_accuracy: 0.9680\n",
            "Epoch 9/50\n",
            "32/32 [==============================] - 161s 5s/step - loss: 0.0687 - accuracy: 0.9790 - val_loss: 0.0525 - val_accuracy: 0.9760\n",
            "Epoch 10/50\n",
            "32/32 [==============================] - 163s 5s/step - loss: 0.0577 - accuracy: 0.9830 - val_loss: 0.0365 - val_accuracy: 0.9880\n",
            "Epoch 11/50\n",
            "32/32 [==============================] - 163s 5s/step - loss: 0.0400 - accuracy: 0.9860 - val_loss: 0.0225 - val_accuracy: 0.9920\n",
            "Epoch 12/50\n",
            "32/32 [==============================] - 163s 5s/step - loss: 0.0318 - accuracy: 0.9900 - val_loss: 0.0199 - val_accuracy: 0.9920\n",
            "Epoch 13/50\n",
            "32/32 [==============================] - 162s 5s/step - loss: 0.0430 - accuracy: 0.9850 - val_loss: 0.0223 - val_accuracy: 0.9880\n",
            "Epoch 14/50\n",
            "32/32 [==============================] - 163s 5s/step - loss: 0.0518 - accuracy: 0.9880 - val_loss: 0.0424 - val_accuracy: 0.9800\n",
            "Epoch 15/50\n",
            "32/32 [==============================] - 163s 5s/step - loss: 0.0915 - accuracy: 0.9720 - val_loss: 0.0565 - val_accuracy: 0.9880\n",
            "Epoch 16/50\n",
            "32/32 [==============================] - 163s 5s/step - loss: 0.0555 - accuracy: 0.9810 - val_loss: 0.0413 - val_accuracy: 0.9920\n",
            "Epoch 17/50\n",
            "32/32 [==============================] - 164s 5s/step - loss: 0.0401 - accuracy: 0.9880 - val_loss: 0.0387 - val_accuracy: 0.9840\n",
            "Epoch 18/50\n",
            "32/32 [==============================] - 163s 5s/step - loss: 0.0244 - accuracy: 0.9930 - val_loss: 0.0203 - val_accuracy: 0.9920\n",
            "Epoch 19/50\n",
            "32/32 [==============================] - 163s 5s/step - loss: 0.0819 - accuracy: 0.9710 - val_loss: 0.0931 - val_accuracy: 0.9800\n",
            "Epoch 20/50\n",
            "32/32 [==============================] - 163s 5s/step - loss: 0.0723 - accuracy: 0.9750 - val_loss: 0.0429 - val_accuracy: 0.9840\n",
            "Epoch 21/50\n",
            "32/32 [==============================] - 165s 5s/step - loss: 0.0826 - accuracy: 0.9770 - val_loss: 0.0846 - val_accuracy: 0.9720\n",
            "Epoch 22/50\n",
            "32/32 [==============================] - 166s 5s/step - loss: 0.0679 - accuracy: 0.9840 - val_loss: 0.0873 - val_accuracy: 0.9760\n",
            "Epoch 23/50\n",
            "32/32 [==============================] - 165s 5s/step - loss: 0.0394 - accuracy: 0.9890 - val_loss: 0.0365 - val_accuracy: 0.9880\n",
            "Epoch 24/50\n",
            "32/32 [==============================] - 164s 5s/step - loss: 0.0238 - accuracy: 0.9920 - val_loss: 0.0450 - val_accuracy: 0.9880\n",
            "Epoch 25/50\n",
            "32/32 [==============================] - 166s 5s/step - loss: 0.0339 - accuracy: 0.9890 - val_loss: 0.1011 - val_accuracy: 0.9680\n",
            "Epoch 26/50\n",
            "32/32 [==============================] - 165s 5s/step - loss: 0.0470 - accuracy: 0.9820 - val_loss: 0.0233 - val_accuracy: 0.9880\n",
            "Epoch 27/50\n",
            "32/32 [==============================] - 164s 5s/step - loss: 0.0254 - accuracy: 0.9890 - val_loss: 0.0312 - val_accuracy: 0.9960\n",
            "Epoch 28/50\n",
            "32/32 [==============================] - 163s 5s/step - loss: 0.0553 - accuracy: 0.9870 - val_loss: 0.0310 - val_accuracy: 0.9880\n",
            "Epoch 29/50\n",
            "32/32 [==============================] - 166s 5s/step - loss: 0.0950 - accuracy: 0.9690 - val_loss: 0.0397 - val_accuracy: 0.9760\n",
            "Epoch 30/50\n",
            "32/32 [==============================] - 166s 5s/step - loss: 0.0378 - accuracy: 0.9860 - val_loss: 0.0137 - val_accuracy: 1.0000\n",
            "Epoch 31/50\n",
            "32/32 [==============================] - 166s 5s/step - loss: 0.0250 - accuracy: 0.9900 - val_loss: 0.0335 - val_accuracy: 0.9880\n",
            "Epoch 32/50\n",
            "32/32 [==============================] - 165s 5s/step - loss: 0.0171 - accuracy: 0.9970 - val_loss: 0.0478 - val_accuracy: 0.9920\n",
            "Epoch 33/50\n",
            "32/32 [==============================] - 164s 5s/step - loss: 0.0229 - accuracy: 0.9930 - val_loss: 0.0142 - val_accuracy: 0.9960\n",
            "Epoch 34/50\n",
            "32/32 [==============================] - 165s 5s/step - loss: 0.0115 - accuracy: 0.9960 - val_loss: 0.0028 - val_accuracy: 1.0000\n",
            "Epoch 35/50\n",
            "32/32 [==============================] - 167s 5s/step - loss: 0.0119 - accuracy: 0.9950 - val_loss: 0.0667 - val_accuracy: 0.9920\n",
            "Epoch 36/50\n",
            "32/32 [==============================] - 165s 5s/step - loss: 0.0155 - accuracy: 0.9930 - val_loss: 0.0498 - val_accuracy: 0.9920\n",
            "Epoch 37/50\n",
            "32/32 [==============================] - 167s 5s/step - loss: 0.0124 - accuracy: 0.9960 - val_loss: 0.0131 - val_accuracy: 0.9960\n",
            "Epoch 38/50\n",
            "32/32 [==============================] - 164s 5s/step - loss: 0.0121 - accuracy: 0.9970 - val_loss: 0.0053 - val_accuracy: 0.9960\n",
            "Epoch 39/50\n",
            "32/32 [==============================] - 164s 5s/step - loss: 0.0054 - accuracy: 0.9980 - val_loss: 0.0320 - val_accuracy: 0.9920\n",
            "Epoch 40/50\n",
            "32/32 [==============================] - 165s 5s/step - loss: 0.0493 - accuracy: 0.9890 - val_loss: 0.1381 - val_accuracy: 0.9400\n",
            "Epoch 41/50\n",
            "32/32 [==============================] - 164s 5s/step - loss: 0.1147 - accuracy: 0.9650 - val_loss: 0.0691 - val_accuracy: 0.9680\n",
            "Epoch 42/50\n",
            "32/32 [==============================] - 163s 5s/step - loss: 0.0381 - accuracy: 0.9890 - val_loss: 0.0238 - val_accuracy: 0.9880\n",
            "Epoch 43/50\n",
            "32/32 [==============================] - 164s 5s/step - loss: 0.0271 - accuracy: 0.9920 - val_loss: 0.0062 - val_accuracy: 1.0000\n",
            "Epoch 44/50\n",
            "32/32 [==============================] - 164s 5s/step - loss: 0.0894 - accuracy: 0.9680 - val_loss: 0.1267 - val_accuracy: 0.9680\n",
            "Epoch 45/50\n",
            "32/32 [==============================] - 163s 5s/step - loss: 0.1079 - accuracy: 0.9680 - val_loss: 0.0375 - val_accuracy: 0.9880\n",
            "Epoch 46/50\n",
            "32/32 [==============================] - 164s 5s/step - loss: 0.0301 - accuracy: 0.9910 - val_loss: 0.0138 - val_accuracy: 0.9960\n",
            "Epoch 47/50\n",
            "32/32 [==============================] - 163s 5s/step - loss: 0.0169 - accuracy: 0.9950 - val_loss: 0.0046 - val_accuracy: 1.0000\n",
            "Epoch 48/50\n",
            "32/32 [==============================] - 163s 5s/step - loss: 0.0321 - accuracy: 0.9880 - val_loss: 0.0364 - val_accuracy: 0.9880\n",
            "Epoch 49/50\n",
            "32/32 [==============================] - 163s 5s/step - loss: 0.0843 - accuracy: 0.9820 - val_loss: 0.0987 - val_accuracy: 0.9640\n",
            "Epoch 50/50\n",
            "32/32 [==============================] - 163s 5s/step - loss: 0.0518 - accuracy: 0.9840 - val_loss: 0.0128 - val_accuracy: 0.9960\n"
          ]
        },
        {
          "output_type": "execute_result",
          "data": {
            "text/plain": [
              "<keras.callbacks.History at 0x7f37ba0b5690>"
            ]
          },
          "metadata": {},
          "execution_count": 13
        }
      ]
    },
    {
      "cell_type": "code",
      "source": [
        "model.save('GAO.h5')"
      ],
      "metadata": {
        "id": "PhIFBv0TnFcv"
      },
      "execution_count": 14,
      "outputs": []
    },
    {
      "cell_type": "code",
      "source": [
        "model_gao = load_model('GAO.h5')"
      ],
      "metadata": {
        "id": "ztOD-c8QnH9b"
      },
      "execution_count": 15,
      "outputs": []
    },
    {
      "cell_type": "code",
      "source": [
        "Score=model.evaluate(training_set,verbose=0)\n",
        "print('Train Loss', Score[0])\n",
        "print('Train Accuracy', Score[1])"
      ],
      "metadata": {
        "colab": {
          "base_uri": "https://localhost:8080/"
        },
        "id": "m-skX5PZnPr1",
        "outputId": "71b50d7e-85d3-4112-f3c9-9aac0231dbf6"
      },
      "execution_count": 16,
      "outputs": [
        {
          "output_type": "stream",
          "name": "stdout",
          "text": [
            "Train Loss 0.028593312948942184\n",
            "Train Accuracy 0.9879999756813049\n"
          ]
        }
      ]
    },
    {
      "cell_type": "code",
      "source": [
        "img = load_img('/content/1.jpg',target_size = (150,150))\n",
        "plt.imshow(img)\n",
        "img=img_to_array(img)\n",
        "img=img.astype('float32')\n",
        "img=img/255\n",
        "img=np.expand_dims(img,axis=0)\n",
        "result=model_gao.predict(img)\n",
        "class_gao=['Arborio', 'Basmati', 'Ipsala', 'Jasmine', 'Karacadag']\n",
        "a= int(np.argmax(model.predict(img),axis=1))\n",
        "print(\"Đây là loại gạo :\", class_gao[a])"
      ],
      "metadata": {
        "colab": {
          "base_uri": "https://localhost:8080/",
          "height": 321
        },
        "id": "-28OuADcnT9z",
        "outputId": "a8dc9d48-7249-4900-df49-18deaace193b"
      },
      "execution_count": 17,
      "outputs": [
        {
          "output_type": "stream",
          "name": "stdout",
          "text": [
            "1/1 [==============================] - 0s 207ms/step\n",
            "1/1 [==============================] - 0s 139ms/step\n",
            "Đây là loại gạo : Jasmine\n"
          ]
        },
        {
          "output_type": "display_data",
          "data": {
            "text/plain": [
              "<Figure size 432x288 with 1 Axes>"
            ],
            "image/png": "[encoded data removed]"
          },
          "metadata": {
            "needs_background": "light"
          }
        }
      ]
    }
  ]
}
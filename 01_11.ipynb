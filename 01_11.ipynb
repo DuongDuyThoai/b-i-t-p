{
  "nbformat": 4,
  "nbformat_minor": 0,
  "metadata": {
    "colab": {
      "provenance": [],
      "authorship_tag": "ABX9TyP5Eaf6ktIhWU4MTE2/4uUi",
      "include_colab_link": true
    },
    "kernelspec": {
      "name": "python3",
      "display_name": "Python 3"
    },
    "language_info": {
      "name": "python"
    }
  },
  "cells": [
    {
      "cell_type": "markdown",
      "metadata": {
        "id": "view-in-github",
        "colab_type": "text"
      },
      "source": [
        "<a href=\"https://colab.research.google.com/github/DuongDuyThoai/bai-tap-AI/blob/main/01_11.ipynb\" target=\"_parent\"><img src=\"https://colab.research.google.com/assets/colab-badge.svg\" alt=\"Open In Colab\"/></a>"
      ]
    },
    {
      "cell_type": "code",
      "execution_count": 63,
      "metadata": {
        "id": "Dcf8v65XFXw8"
      },
      "outputs": [],
      "source": [
        "from keras.datasets import mnist\n",
        "from keras.models import Sequential, Model\n",
        "from keras.layers import Dense, Activation, Dropout, Conv2D, Flatten,MaxPooling2D\n",
        "(x_train, y_train),(x_test,y_test)= mnist.load_data()\n"
      ]
    },
    {
      "cell_type": "code",
      "source": [
        "x_train.shape"
      ],
      "metadata": {
        "colab": {
          "base_uri": "https://localhost:8080/"
        },
        "id": "VIz-I324GK4T",
        "outputId": "ce8c28c5-aaaf-460b-b1c4-a64b3d344821"
      },
      "execution_count": 64,
      "outputs": [
        {
          "output_type": "execute_result",
          "data": {
            "text/plain": [
              "(60000, 28, 28)"
            ]
          },
          "metadata": {},
          "execution_count": 64
        }
      ]
    },
    {
      "cell_type": "code",
      "source": [
        "y_train.shape"
      ],
      "metadata": {
        "colab": {
          "base_uri": "https://localhost:8080/"
        },
        "id": "ZqN894rVF_qr",
        "outputId": "c28292fe-fc05-4bf8-ea53-04f129c30a70"
      },
      "execution_count": 65,
      "outputs": [
        {
          "output_type": "execute_result",
          "data": {
            "text/plain": [
              "(60000,)"
            ]
          },
          "metadata": {},
          "execution_count": 65
        }
      ]
    },
    {
      "cell_type": "code",
      "source": [
        "x_test.shape"
      ],
      "metadata": {
        "colab": {
          "base_uri": "https://localhost:8080/"
        },
        "id": "yxxoc9ZoGkpo",
        "outputId": "28e60c02-aa3d-42ed-db36-2c42a50f4159"
      },
      "execution_count": 66,
      "outputs": [
        {
          "output_type": "execute_result",
          "data": {
            "text/plain": [
              "(10000, 28, 28)"
            ]
          },
          "metadata": {},
          "execution_count": 66
        }
      ]
    },
    {
      "cell_type": "code",
      "source": [
        "y_test.shape"
      ],
      "metadata": {
        "colab": {
          "base_uri": "https://localhost:8080/"
        },
        "id": "Pksmn5AIGnia",
        "outputId": "b976e8df-31fc-4ce7-ce85-da1b738b1062"
      },
      "execution_count": 67,
      "outputs": [
        {
          "output_type": "execute_result",
          "data": {
            "text/plain": [
              "(10000,)"
            ]
          },
          "metadata": {},
          "execution_count": 67
        }
      ]
    },
    {
      "cell_type": "code",
      "source": [
        "from keras.utils import load_img"
      ],
      "metadata": {
        "id": "9hpDoj7mH9LQ"
      },
      "execution_count": 68,
      "outputs": []
    },
    {
      "cell_type": "code",
      "source": [
        "from keras.utils import to_categorical\n",
        "from keras import models\n",
        "from keras.layers import Conv2D, MaxPool2D, Dense, Flatten, MaxPooling2D\n",
        "y_train = to_categorical(y_train)\n",
        "y_test = to_categorical(y_test)"
      ],
      "metadata": {
        "id": "Y8A644yNP4He"
      },
      "execution_count": 69,
      "outputs": []
    },
    {
      "cell_type": "code",
      "source": [
        "Mod = models.Sequential()\n",
        "Mod.add(Conv2D(32,kernel_size = (3,3),activation='relu',input_shape=(28,28,1),padding=\"same\"))\n",
        "Mod.add(MaxPooling2D((2,2),padding=\"same\"))\n",
        "Mod.add(Conv2D(64,kernel_size = (3,3), activation='relu',padding='same'))\n",
        "Mod.add(MaxPooling2D((2,2),padding='same'))\n",
        "Mod.add(Flatten())\n",
        "Mod.add(Dense(128,activation='relu'))\n",
        "Mod.add(Dense(10,activation='softmax'))\n",
        "Mod.compile(loss='categorical_crossentropy',metrics=['accuracy'],optimizer='adam')\n",
        "Dothi = Mod.fit(x_train,y_train,batch_size=128,epochs=20,verbose=2)"
      ],
      "metadata": {
        "colab": {
          "base_uri": "https://localhost:8080/"
        },
        "id": "4571f_QNQrTw",
        "outputId": "6985d25b-c50d-4a8e-bda0-823a55f95c46"
      },
      "execution_count": 70,
      "outputs": [
        {
          "output_type": "stream",
          "name": "stdout",
          "text": [
            "Epoch 1/20\n",
            "469/469 - 113s - loss: 0.6551 - accuracy: 0.9262 - 113s/epoch - 240ms/step\n",
            "Epoch 2/20\n",
            "469/469 - 60s - loss: 0.0521 - accuracy: 0.9837 - 60s/epoch - 129ms/step\n",
            "Epoch 3/20\n",
            "469/469 - 61s - loss: 0.0337 - accuracy: 0.9892 - 61s/epoch - 131ms/step\n",
            "Epoch 4/20\n",
            "469/469 - 61s - loss: 0.0233 - accuracy: 0.9920 - 61s/epoch - 129ms/step\n",
            "Epoch 5/20\n",
            "469/469 - 61s - loss: 0.0198 - accuracy: 0.9936 - 61s/epoch - 130ms/step\n",
            "Epoch 6/20\n",
            "469/469 - 65s - loss: 0.0199 - accuracy: 0.9930 - 65s/epoch - 138ms/step\n",
            "Epoch 7/20\n",
            "469/469 - 63s - loss: 0.0157 - accuracy: 0.9948 - 63s/epoch - 135ms/step\n",
            "Epoch 8/20\n",
            "469/469 - 66s - loss: 0.0153 - accuracy: 0.9952 - 66s/epoch - 142ms/step\n",
            "Epoch 9/20\n",
            "469/469 - 62s - loss: 0.0135 - accuracy: 0.9955 - 62s/epoch - 133ms/step\n",
            "Epoch 10/20\n",
            "469/469 - 64s - loss: 0.0109 - accuracy: 0.9961 - 64s/epoch - 137ms/step\n",
            "Epoch 11/20\n",
            "469/469 - 62s - loss: 0.0172 - accuracy: 0.9949 - 62s/epoch - 132ms/step\n",
            "Epoch 12/20\n",
            "469/469 - 63s - loss: 0.0131 - accuracy: 0.9960 - 63s/epoch - 134ms/step\n",
            "Epoch 13/20\n",
            "469/469 - 64s - loss: 0.0113 - accuracy: 0.9961 - 64s/epoch - 137ms/step\n",
            "Epoch 14/20\n",
            "469/469 - 61s - loss: 0.0094 - accuracy: 0.9970 - 61s/epoch - 131ms/step\n",
            "Epoch 15/20\n",
            "469/469 - 61s - loss: 0.0107 - accuracy: 0.9965 - 61s/epoch - 131ms/step\n",
            "Epoch 16/20\n",
            "469/469 - 61s - loss: 0.0116 - accuracy: 0.9963 - 61s/epoch - 130ms/step\n",
            "Epoch 17/20\n",
            "469/469 - 63s - loss: 0.0087 - accuracy: 0.9973 - 63s/epoch - 135ms/step\n",
            "Epoch 18/20\n",
            "469/469 - 62s - loss: 0.0068 - accuracy: 0.9978 - 62s/epoch - 133ms/step\n",
            "Epoch 19/20\n",
            "469/469 - 64s - loss: 0.0101 - accuracy: 0.9972 - 64s/epoch - 136ms/step\n",
            "Epoch 20/20\n",
            "469/469 - 64s - loss: 0.0099 - accuracy: 0.9969 - 64s/epoch - 136ms/step\n"
          ]
        }
      ]
    },
    {
      "cell_type": "code",
      "source": [
        "model.save('buoi8.h5')"
      ],
      "metadata": {
        "id": "1tgX2ZtPS9tS"
      },
      "execution_count": 71,
      "outputs": []
    },
    {
      "cell_type": "code",
      "source": [
        "test_lost,test_acc=Mod.evaluate(x_test,y_test)\n",
        "print('Test accuracy:',test_acc)\n",
        "from keras.utils import load_img\n",
        "from keras.utils import img_to_array,load_img\n",
        "import matplotlib.pyplot as plt\n",
        "import numpy as np\n",
        "from keras.models import load_model\n",
        "img = load_img('/content/8.PNG',target_size=(28,28))\n",
        "plt.imshow(img)\n",
        "img = img_to_array(img)\n",
        "img = img[:,:,0]\n",
        "img = img.astype('float32')\n",
        "img = img.reshape(1,28,28,1)\n",
        "img = img/255\n",
        "class_number=['0','1','2','3','4','5','6','7','8','9',]\n",
        "a= int(np.argmax(Mod.predict(img),axis=1))\n",
        "print(\"Đây là số:\", class_number[a])"
      ],
      "metadata": {
        "colab": {
          "base_uri": "https://localhost:8080/",
          "height": 334
        },
        "id": "ou6FHPE5TWUy",
        "outputId": "5bf95f3e-6faf-4b61-f5f0-718d38f92f93"
      },
      "execution_count": 91,
      "outputs": [
        {
          "output_type": "stream",
          "name": "stdout",
          "text": [
            "313/313 [==============================] - 4s 14ms/step - loss: 0.0717 - accuracy: 0.9892\n",
            "Test accuracy: 0.9891999959945679\n",
            "1/1 [==============================] - 0s 18ms/step\n",
            "Đây là số: 8\n"
          ]
        },
        {
          "output_type": "display_data",
          "data": {
            "text/plain": [
              "<Figure size 432x288 with 1 Axes>"
            ],
            "image/png": "[encoded data removed]"
          },
          "metadata": {
            "needs_background": "light"
          }
        }
      ]
    }
  ]
}
{
  "nbformat": 4,
  "nbformat_minor": 0,
  "metadata": {
    "colab": {
      "provenance": [],
      "authorship_tag": "ABX9TyObBipBLuiXwrTszy1B19i6",
      "include_colab_link": true
    },
    "kernelspec": {
      "name": "python3",
      "display_name": "Python 3"
    },
    "language_info": {
      "name": "python"
    }
  },
  "cells": [
    {
      "cell_type": "markdown",
      "metadata": {
        "id": "view-in-github",
        "colab_type": "text"
      },
      "source": [
        "<a href=\"https://colab.research.google.com/github/DuongDuyThoai/bai-tap-AI/blob/main/22_11_22.ipynb\" target=\"_parent\"><img src=\"https://colab.research.google.com/assets/colab-badge.svg\" alt=\"Open In Colab\"/></a>"
      ]
    },
    {
      "cell_type": "code",
      "execution_count": 1,
      "metadata": {
        "colab": {
          "base_uri": "https://localhost:8080/"
        },
        "id": "gjbS2JwDHSlr",
        "outputId": "58669226-7c2b-401c-dfb5-8feefb8c90ee"
      },
      "outputs": [
        {
          "output_type": "stream",
          "name": "stdout",
          "text": [
            "Looking in indexes: https://pypi.org/simple, https://us-python.pkg.dev/colab-wheels/public/simple/\n",
            "Collecting youtube-search\n",
            "  Downloading youtube_search-2.1.2-py3-none-any.whl (3.4 kB)\n",
            "Requirement already satisfied: requests in /usr/local/lib/python3.7/dist-packages (from youtube-search) (2.23.0)\n",
            "Requirement already satisfied: idna<3,>=2.5 in /usr/local/lib/python3.7/dist-packages (from requests->youtube-search) (2.10)\n",
            "Requirement already satisfied: certifi>=2017.4.17 in /usr/local/lib/python3.7/dist-packages (from requests->youtube-search) (2022.9.24)\n",
            "Requirement already satisfied: chardet<4,>=3.0.2 in /usr/local/lib/python3.7/dist-packages (from requests->youtube-search) (3.0.4)\n",
            "Requirement already satisfied: urllib3!=1.25.0,!=1.25.1,<1.26,>=1.21.1 in /usr/local/lib/python3.7/dist-packages (from requests->youtube-search) (1.24.3)\n",
            "Installing collected packages: youtube-search\n",
            "Successfully installed youtube-search-2.1.2\n"
          ]
        }
      ],
      "source": [
        "pip install youtube-search"
      ]
    },
    {
      "cell_type": "code",
      "source": [
        "from youtube_search import YoutubeSearch\n",
        "import webbrowser\n",
        "mysong = input(' Xin mời bạn chọn bài hát:')\n",
        "print(mysong)\n",
        "result = YoutubeSearch(mysong, max_results = 10).to_dict()\n",
        "print(result)\n",
        "print(result[0]['url_suffix'])\n",
        "url = 'http://youtube.com' + result[0]['url_suffix']\n",
        "print(url)\n",
        "webbrowser.open(url)\n",
        "print('Bài hát yêu cầu đã được mở:')"
      ],
      "metadata": {
        "colab": {
          "base_uri": "https://localhost:8080/"
        },
        "id": "eBzgZ-EJH-mv",
        "outputId": "baa8e5cd-8806-47ac-d108-53888d6919d0"
      },
      "execution_count": 13,
      "outputs": [
        {
          "output_type": "stream",
          "name": "stdout",
          "text": [
            " Xin mời bạn chọn bài hát:đông kiếm em\n",
            "đông kiếm em\n",
            "[{'id': 'NLBTbCfR-Fg', 'thumbnails': ['https://i.ytimg.com/vi/NLBTbCfR-Fg/hq720.jpg?sqp=-oaymwE9COgCEMoBSFryq4qpAy8IARUAAAAAGAElAADIQj0AgKJDeAHwAQH4AdQGgALgA4oCDAgAEAEYciBUKDgwDw==&rs=AOn4CLCxkeaE6Ua-gsrfb3NwNsj8S0vWBg', 'https://i.ytimg.com/vi/NLBTbCfR-Fg/hq720.jpg?sqp=-oaymwExCNAFEJQDSFryq4qpAyMIARUAAIhCGAHwAQH4AdQGgALgA4oCDAgAEAEYciBUKDgwDw==&rs=AOn4CLAm9BWBsRqP2H7wiagRAH6AdVnyeg'], 'title': 'ĐÔNG KIẾM EM / Vũ. (Original)', 'long_desc': None, 'channel': 'Vũ Official', 'duration': '4:07', 'views': '56,495,631 views', 'publish_time': '6 years ago', 'url_suffix': '/watch?v=NLBTbCfR-Fg'}, {'id': 'dHkkEm04YQ8', 'thumbnails': ['https://i.ytimg.com/vi/dHkkEm04YQ8/hq720.jpg?sqp=-oaymwEjCOgCEMoBSFryq4qpAxUIARUAAAAAGAElAADIQj0AgKJDeAE=&rs=AOn4CLB5R7tevwq29LnAy4qzlVI9V7R_jQ', 'https://i.ytimg.com/vi/dHkkEm04YQ8/hq720.jpg?sqp=-oaymwEXCNAFEJQDSFryq4qpAwkIARUAAIhCGAE=&rs=AOn4CLC2NklFSwGke-WXvW8Byf5KcwRm7A'], 'title': '#inthemoonlight | Đông Kiếm Em - Vũ.', 'long_desc': None, 'channel': 'The Bros Entertainment', 'duration': '4:30', 'views': '533,127 views', 'publish_time': '9 months ago', 'url_suffix': '/watch?v=dHkkEm04YQ8'}, {'id': 'VKY_7OGnjBo', 'thumbnails': ['https://i.ytimg.com/vi/VKY_7OGnjBo/hq720.jpg?sqp=-oaymwEjCOgCEMoBSFryq4qpAxUIARUAAAAAGAElAADIQj0AgKJDeAE=&rs=AOn4CLDA9SH5qBtF4LAY5rOGzVFwXRdN0g', 'https://i.ytimg.com/vi/VKY_7OGnjBo/hq720.jpg?sqp=-oaymwEXCNAFEJQDSFryq4qpAwkIARUAAIhCGAE=&rs=AOn4CLBBwGt22ienR2ex5Cqqi3XvDWc8-w'], 'title': 'Lạ Lùng, Bước Qua Mùa Cô Đơn, Đông Kiếm Em - - - Những Ca Khúc Hay Nhất Của Vũ,.. Chilies,..', 'long_desc': None, 'channel': 'YOYO Music', 'duration': '1:32:13', 'views': '67,800 views', 'publish_time': '1 month ago', 'url_suffix': '/watch?v=VKY_7OGnjBo'}, {'id': 'QXMpQKQ4xsQ', 'thumbnails': ['https://i.ytimg.com/vi/QXMpQKQ4xsQ/hq720.jpg?sqp=-oaymwEjCOgCEMoBSFryq4qpAxUIARUAAAAAGAElAADIQj0AgKJDeAE=&rs=AOn4CLALAwxsSZWxiZvzDBvq9jcmJO9Z3g', 'https://i.ytimg.com/vi/QXMpQKQ4xsQ/hq720.jpg?sqp=-oaymwEXCNAFEJQDSFryq4qpAwkIARUAAIhCGAE=&rs=AOn4CLB5c1xswSXGsVZQhY8MW5NPMJCYJg'], 'title': 'Đông Kiếm Em - Vũ | Lyrics MV', 'long_desc': None, 'channel': 'Ant Hoang', 'duration': '4:11', 'views': '4,172,538 views', 'publish_time': '3 years ago', 'url_suffix': '/watch?v=QXMpQKQ4xsQ'}, {'id': 'qDZFevQpVFk', 'thumbnails': ['https://i.ytimg.com/vi/qDZFevQpVFk/hq720.jpg?sqp=-oaymwEjCOgCEMoBSFryq4qpAxUIARUAAAAAGAElAADIQj0AgKJDeAE=&rs=AOn4CLDCz1aMuOeEkAqAuVR_AJF7eyyoGg', 'https://i.ytimg.com/vi/qDZFevQpVFk/hq720.jpg?sqp=-oaymwEXCNAFEJQDSFryq4qpAwkIARUAAIhCGAE=&rs=AOn4CLC3CbvZkE0F-gcg3hB2wLkuBqgZCQ'], 'title': 'VŨ. | Bước Qua Nhau, Lạ Lùng, Đông Kiếm Em - Tuyển Tập Những Ca Khúc Hay Nhất Của VŨ.', 'long_desc': None, 'channel': 'Top Songs Radio', 'duration': '1:26:11', 'views': '3,150,986 views', 'publish_time': '9 months ago', 'url_suffix': '/watch?v=qDZFevQpVFk'}, {'id': '1XQXxg2pNgc', 'thumbnails': ['https://i.ytimg.com/vi/1XQXxg2pNgc/hq720.jpg?sqp=-oaymwEjCOgCEMoBSFryq4qpAxUIARUAAAAAGAElAADIQj0AgKJDeAE=&rs=AOn4CLCuniptN3yILxmvsmnhvELTlh0R2g', 'https://i.ytimg.com/vi/1XQXxg2pNgc/hq720.jpg?sqp=-oaymwEXCNAFEJQDSFryq4qpAwkIARUAAIhCGAE=&rs=AOn4CLDzlEdjyfR44rgRPNKQW4SsjMsTKg'], 'title': 'Vũ - Đông Kiếm Em | THE EYE', 'long_desc': None, 'channel': 'THE EYE Sessions', 'duration': '4:07', 'views': '2,783,273 views', 'publish_time': '2 years ago', 'url_suffix': '/watch?v=1XQXxg2pNgc'}, {'id': '9wzKFbjrj30', 'thumbnails': ['https://i.ytimg.com/vi/9wzKFbjrj30/hq720.jpg?sqp=-oaymwEjCOgCEMoBSFryq4qpAxUIARUAAAAAGAElAADIQj0AgKJDeAE=&rs=AOn4CLCa4aJiXzkNZ2Sn_pquRhYKmAMfZg', 'https://i.ytimg.com/vi/9wzKFbjrj30/hq720.jpg?sqp=-oaymwEXCNAFEJQDSFryq4qpAwkIARUAAIhCGAE=&rs=AOn4CLC__u6HiAUoHDpfzDUnVUMSIsKqnQ'], 'title': 'Đông Kiếm Em, Lạ Lùng, Bước Qua Nhau - - - Những Ca Khúc Hay Nhất Của Vũ., Andiez, Vương Anh Tú,..', 'long_desc': None, 'channel': 'YOYO Music', 'duration': '1:32:54', 'views': '380,386 views', 'publish_time': '4 months ago', 'url_suffix': '/watch?v=9wzKFbjrj30'}, {'id': 'hDJFfL0HhNY', 'thumbnails': ['https://i.ytimg.com/vi/hDJFfL0HhNY/hq720.jpg?sqp=-oaymwEjCOgCEMoBSFryq4qpAxUIARUAAAAAGAElAADIQj0AgKJDeAE=&rs=AOn4CLBcfBEzkkhbYyFJkyOjAoaGLgy_gQ', 'https://i.ytimg.com/vi/hDJFfL0HhNY/hq720.jpg?sqp=-oaymwEXCNAFEJQDSFryq4qpAwkIARUAAIhCGAE=&rs=AOn4CLBRxzbuvDGAwiesl9tNoIpbjtJRjQ'], 'title': 'Đông Kiếm Em(Lofi-Lyrics).Vũ ft Quanvrox x Hiro', 'long_desc': None, 'channel': 'Hiro Music', 'duration': '4:41', 'views': '127,597 views', 'publish_time': '1 year ago', 'url_suffix': '/watch?v=hDJFfL0HhNY'}, {'id': 'c3qlX9DbUss', 'thumbnails': ['https://i.ytimg.com/vi/c3qlX9DbUss/hq720.jpg?sqp=-oaymwEjCOgCEMoBSFryq4qpAxUIARUAAAAAGAElAADIQj0AgKJDeAE=&rs=AOn4CLAKoQWFDE79SGTAha2zMDEfz9xWfw', 'https://i.ytimg.com/vi/c3qlX9DbUss/hq720.jpg?sqp=-oaymwEXCNAFEJQDSFryq4qpAwkIARUAAIhCGAE=&rs=AOn4CLDDxmPeAc3PcLlBLSaQQHicm66Zkw'], 'title': 'Đông Kiếm Em - Vũ.  [Lyrics Video]', 'long_desc': None, 'channel': 'Cafe Quán Quen ', 'duration': '4:07', 'views': '17,711 views', 'publish_time': '3 months ago', 'url_suffix': '/watch?v=c3qlX9DbUss'}, {'id': '2g76kM_aJ5I', 'thumbnails': ['https://i.ytimg.com/vi/2g76kM_aJ5I/hq720.jpg?sqp=-oaymwE9COgCEMoBSFryq4qpAy8IARUAAAAAGAElAADIQj0AgKJDeAHwAQH4AbwIgAK4CIoCDAgAEAEYZCBkKGQwDw==&rs=AOn4CLAmsSLUd5RBJwQAhA_8OKD3OO1BNA', 'https://i.ytimg.com/vi/2g76kM_aJ5I/hq720.jpg?sqp=-oaymwExCNAFEJQDSFryq4qpAyMIARUAAIhCGAHwAQH4AbwIgAK4CIoCDAgAEAEYZCBkKGQwDw==&rs=AOn4CLDVeVjOPmprReJtH6Tz8rk8FtTW-A'], 'title': 'Còn lại đây nhớ mong còn lại tôi với ai…/Đông Kiếm Em - Vũ | (slowed)', 'long_desc': None, 'channel': 'DUC GAMING', 'duration': '4:47', 'views': '21,375 views', 'publish_time': '1 year ago', 'url_suffix': '/watch?v=2g76kM_aJ5I'}]\n",
            "/watch?v=NLBTbCfR-Fg\n",
            "http://youtube.com/watch?v=NLBTbCfR-Fg\n",
            "Bài hát yêu cầu đã được mở:\n"
          ]
        }
      ]
    },
    {
      "cell_type": "code",
      "source": [
        "!pip install PyAudio"
      ],
      "metadata": {
        "colab": {
          "base_uri": "https://localhost:8080/"
        },
        "id": "hBdpDFJ-Nbby",
        "outputId": "8133849d-16eb-4dec-c507-6ba3cd7686c2"
      },
      "execution_count": 9,
      "outputs": [
        {
          "output_type": "stream",
          "name": "stdout",
          "text": [
            "Looking in indexes: https://pypi.org/simple, https://us-python.pkg.dev/colab-wheels/public/simple/\n",
            "Collecting PyAudio\n",
            "  Downloading PyAudio-0.2.12.tar.gz (42 kB)\n",
            "\u001b[K     |████████████████████████████████| 42 kB 1.2 MB/s \n",
            "\u001b[?25h  Installing build dependencies ... \u001b[?25l\u001b[?25hdone\n",
            "  Getting requirements to build wheel ... \u001b[?25l\u001b[?25hdone\n",
            "    Preparing wheel metadata ... \u001b[?25l\u001b[?25hdone\n",
            "Building wheels for collected packages: PyAudio\n",
            "  Building wheel for PyAudio (PEP 517) ... \u001b[?25l\u001b[?25herror\n",
            "\u001b[31m  ERROR: Failed building wheel for PyAudio\u001b[0m\n",
            "Failed to build PyAudio\n",
            "\u001b[31mERROR: Could not build wheels for PyAudio which use PEP 517 and cannot be installed directly\u001b[0m\n"
          ]
        }
      ]
    },
    {
      "cell_type": "code",
      "source": [
        "!pip install SpeechRecognition"
      ],
      "metadata": {
        "colab": {
          "base_uri": "https://localhost:8080/"
        },
        "id": "8WhwlL7sNeT4",
        "outputId": "3578a73c-fa22-4aec-fb77-198ce64153ab"
      },
      "execution_count": 10,
      "outputs": [
        {
          "output_type": "stream",
          "name": "stdout",
          "text": [
            "Looking in indexes: https://pypi.org/simple, https://us-python.pkg.dev/colab-wheels/public/simple/\n",
            "Collecting SpeechRecognition\n",
            "  Downloading SpeechRecognition-3.8.1-py2.py3-none-any.whl (32.8 MB)\n",
            "\u001b[K     |████████████████████████████████| 32.8 MB 1.3 MB/s \n",
            "\u001b[?25hInstalling collected packages: SpeechRecognition\n",
            "Successfully installed SpeechRecognition-3.8.1\n"
          ]
        }
      ]
    },
    {
      "cell_type": "code",
      "source": [
        "!pip install playsound"
      ],
      "metadata": {
        "colab": {
          "base_uri": "https://localhost:8080/"
        },
        "id": "t66uQx_3Nlc8",
        "outputId": "15294bd6-a424-41b7-a3a4-1b36c45bdec7"
      },
      "execution_count": 11,
      "outputs": [
        {
          "output_type": "stream",
          "name": "stdout",
          "text": [
            "Looking in indexes: https://pypi.org/simple, https://us-python.pkg.dev/colab-wheels/public/simple/\n",
            "Collecting playsound\n",
            "  Downloading playsound-1.3.0.tar.gz (7.7 kB)\n",
            "Building wheels for collected packages: playsound\n",
            "  Building wheel for playsound (setup.py) ... \u001b[?25l\u001b[?25hdone\n",
            "  Created wheel for playsound: filename=playsound-1.3.0-py3-none-any.whl size=7038 sha256=ffaa2baa061777145e8146e7b90eaae26d0d52f5bcdd0b7aacc9f09141f74435\n",
            "  Stored in directory: /root/.cache/pip/wheels/ba/f8/bb/ea57c0146b664dca3a0ada4199b0ecb5f9dfcb7b7e22b65ba2\n",
            "Successfully built playsound\n",
            "Installing collected packages: playsound\n",
            "Successfully installed playsound-1.3.0\n"
          ]
        }
      ]
    },
    {
      "cell_type": "code",
      "source": [
        "filename='/content/eng2.wav'\n",
        "import speech_recognition as sr\n",
        "r= sr.Recognizer()\n",
        "with sr.AudioFile(filename) as source:\n",
        "  audio_data= r.record(source)\n",
        "text=r.recognize_google(audio_data)  \n",
        "print(text)"
      ],
      "metadata": {
        "colab": {
          "base_uri": "https://localhost:8080/"
        },
        "id": "YwqAnUx-PPfP",
        "outputId": "b7074760-2e27-4b3b-f8f6-f66e8273d00a"
      },
      "execution_count": 18,
      "outputs": [
        {
          "output_type": "stream",
          "name": "stdout",
          "text": [
            "welcome to English in a minute most people enjoy going to parties you got to be around friends ain't food and maybe it was into music but do your parties ever have animals on Sunday\n"
          ]
        }
      ]
    },
    {
      "cell_type": "code",
      "source": [
        "!pip install googletrans==3.1.0a0"
      ],
      "metadata": {
        "id": "VZCmvy5rP3vU"
      },
      "execution_count": null,
      "outputs": []
    },
    {
      "cell_type": "code",
      "source": [
        "filename = '/content/vi.wav'\n",
        "import speech_recognition as sr\n",
        "r = sr.Recognizer()\n",
        "with sr.AudioFile(filename) as sowrce:\n",
        "  audio_data = r.record(sowrce,offset=5, duration= 60)\n",
        "text = r.recognize_google(audio_data, language='vi_VI')\n",
        "print(text)"
      ],
      "metadata": {
        "colab": {
          "base_uri": "https://localhost:8080/"
        },
        "id": "J917SAZvVR5G",
        "outputId": "b79487df-bc71-4ac4-8a9f-7ccb16e902e9"
      },
      "execution_count": 27,
      "outputs": [
        {
          "output_type": "stream",
          "name": "stdout",
          "text": [
            "Mà tôi cũng phải phục da tay cái ảnh công an ở đây chứ phải tôi tôi đấm cho mày vô cùng cứ xin lỗi chị chỉ vào mặt thế này đang chửi đ***** chúng mày thằng ranh con này tôi tới để đánh giá quá mà anh ấy không hợp tác với những cái anh công an của phường của thành phố đấy là cái cái cái thái độ và đi mệt từ khi từ khi mà đến lúc 10 giờ cho đến lúc 2 giờ mới ra về anh bỏ đi về anh không gặp em bỏ đi về đấy không cái lúc nào anh ước mơ của mình\n"
          ]
        }
      ]
    },
    {
      "cell_type": "code",
      "source": [
        "pip install pyttsx3"
      ],
      "metadata": {
        "colab": {
          "base_uri": "https://localhost:8080/"
        },
        "id": "98iIJgJUZGZl",
        "outputId": "48735a15-d411-435c-9c22-5f92f9423190"
      },
      "execution_count": 28,
      "outputs": [
        {
          "output_type": "stream",
          "name": "stdout",
          "text": [
            "Looking in indexes: https://pypi.org/simple, https://us-python.pkg.dev/colab-wheels/public/simple/\n",
            "Collecting pyttsx3\n",
            "  Downloading pyttsx3-2.90-py3-none-any.whl (39 kB)\n",
            "Installing collected packages: pyttsx3\n",
            "Successfully installed pyttsx3-2.90\n"
          ]
        }
      ]
    },
    {
      "cell_type": "code",
      "source": [
        "from googletrans import Translator\n",
        "A='Tại vì sao bao nhiêu lâu nay anh thì thầm thả gió cuốn bay đi Chạm vào môi đan vào tay của em ta đi chung bước với thời gian Một nụ hôn thay cho bao nụ hồng em có muốn ngay khi Ta vừa gặp nhau?'\n",
        "translator=Translator()\n",
        "translation=translator.translate(A,dest='vi')\n",
        "print(translation.text)"
      ],
      "metadata": {
        "colab": {
          "base_uri": "https://localhost:8080/"
        },
        "id": "JtJASbLPat3F",
        "outputId": "9217d329-b565-4824-cef0-149231c131da"
      },
      "execution_count": 33,
      "outputs": [
        {
          "output_type": "stream",
          "name": "stdout",
          "text": [
            "Tại vì sao bao nhiêu lâu nay anh thì thầm thả gió cuốn bay đi Chạm vào môi đan vào tay của em ta đi chung bước với thời gian Một nụ hôn thay cho bao nụ hồng em có muốn ngay khi Ta vừa gặp nhau?\n"
          ]
        }
      ]
    },
    {
      "cell_type": "code",
      "source": [
        "!pip install gTTS"
      ],
      "metadata": {
        "colab": {
          "base_uri": "https://localhost:8080/",
          "height": 730
        },
        "id": "GyFy7CMadL0j",
        "outputId": "338801ae-862c-4acc-c3ef-0b631ec02a7e"
      },
      "execution_count": 37,
      "outputs": [
        {
          "output_type": "stream",
          "name": "stdout",
          "text": [
            "Looking in indexes: https://pypi.org/simple, https://us-python.pkg.dev/colab-wheels/public/simple/\n",
            "Collecting gTTS\n",
            "  Downloading gTTS-2.3.0-py3-none-any.whl (26 kB)\n",
            "Collecting click~=8.1.3\n",
            "  Downloading click-8.1.3-py3-none-any.whl (96 kB)\n",
            "\u001b[K     |████████████████████████████████| 96 kB 5.3 MB/s \n",
            "\u001b[?25hCollecting six~=1.16.0\n",
            "  Downloading six-1.16.0-py2.py3-none-any.whl (11 kB)\n",
            "Collecting requests~=2.28.0\n",
            "  Downloading requests-2.28.1-py3-none-any.whl (62 kB)\n",
            "\u001b[K     |████████████████████████████████| 62 kB 1.3 MB/s \n",
            "\u001b[?25hRequirement already satisfied: importlib-metadata in /usr/local/lib/python3.7/dist-packages (from click~=8.1.3->gTTS) (4.13.0)\n",
            "Requirement already satisfied: certifi>=2017.4.17 in /usr/local/lib/python3.7/dist-packages (from requests~=2.28.0->gTTS) (2022.9.24)\n",
            "Requirement already satisfied: idna<4,>=2.5 in /usr/local/lib/python3.7/dist-packages (from requests~=2.28.0->gTTS) (2.10)\n",
            "Requirement already satisfied: urllib3<1.27,>=1.21.1 in /usr/local/lib/python3.7/dist-packages (from requests~=2.28.0->gTTS) (1.24.3)\n",
            "Requirement already satisfied: charset-normalizer<3,>=2 in /usr/local/lib/python3.7/dist-packages (from requests~=2.28.0->gTTS) (2.1.1)\n",
            "Requirement already satisfied: zipp>=0.5 in /usr/local/lib/python3.7/dist-packages (from importlib-metadata->click~=8.1.3->gTTS) (3.10.0)\n",
            "Requirement already satisfied: typing-extensions>=3.6.4 in /usr/local/lib/python3.7/dist-packages (from importlib-metadata->click~=8.1.3->gTTS) (4.1.1)\n",
            "Installing collected packages: six, requests, click, gTTS\n",
            "  Attempting uninstall: six\n",
            "    Found existing installation: six 1.15.0\n",
            "    Uninstalling six-1.15.0:\n",
            "      Successfully uninstalled six-1.15.0\n",
            "  Attempting uninstall: requests\n",
            "    Found existing installation: requests 2.23.0\n",
            "    Uninstalling requests-2.23.0:\n",
            "      Successfully uninstalled requests-2.23.0\n",
            "  Attempting uninstall: click\n",
            "    Found existing installation: click 7.1.2\n",
            "    Uninstalling click-7.1.2:\n",
            "      Successfully uninstalled click-7.1.2\n",
            "\u001b[31mERROR: pip's dependency resolver does not currently take into account all the packages that are installed. This behaviour is the source of the following dependency conflicts.\n",
            "ipython 7.9.0 requires jedi>=0.10, which is not installed.\n",
            "flask 1.1.4 requires click<8.0,>=5.1, but you have click 8.1.3 which is incompatible.\u001b[0m\n",
            "Successfully installed click-8.1.3 gTTS-2.3.0 requests-2.28.1 six-1.16.0\n"
          ]
        },
        {
          "output_type": "display_data",
          "data": {
            "application/vnd.colab-display-data+json": {
              "pip_warning": {
                "packages": [
                  "requests",
                  "six"
                ]
              }
            }
          },
          "metadata": {}
        }
      ]
    },
    {
      "cell_type": "code",
      "source": [
        "from playsound import playsound\n",
        "import speech_recognition as sr\n",
        "from gtts import gTTS\n",
        "import os\n",
        "A = '母は一番強い女の人だと思います。母はいつも家族を愛していて、毎日わたしたちのために頑張っています。私にいいマナー老人を尊敬することや子供たちに譲ることなどを教えてくれています。 母はいつも新設に他の人を扱うので、尊敬される。 母は家族が住んでいる町の中学校で歴史と文学の教師です。いつも仕事に誇りを持っていて、熱心に学生たちを教えます。 母は花を植えることが好きなので、家の周りはたくさんの花の種類を植えています。またはコーヒーを飲むことや本を読むことや旅行が好きです。 母のことを愛しています。母とたくさんの素晴らしい景色に旅行したいです。私はいつも元気で、嬉しい母を見たいです。'\n",
        "speak = gTTS (text = A, lang = 'ja', slow = False)\n",
        "speak.save('test.mp3')\n",
        "print(A)"
      ],
      "metadata": {
        "colab": {
          "base_uri": "https://localhost:8080/"
        },
        "id": "DmgD1jZkcm9U",
        "outputId": "151624ea-ae3b-4eb3-ec47-64ee4ee00bf4"
      },
      "execution_count": 39,
      "outputs": [
        {
          "output_type": "stream",
          "name": "stdout",
          "text": [
            "母は一番強い女の人だと思います。母はいつも家族を愛していて、毎日わたしたちのために頑張っています。私にいいマナー老人を尊敬することや子供たちに譲ることなどを教えてくれています。 母はいつも新設に他の人を扱うので、尊敬される。 母は家族が住んでいる町の中学校で歴史と文学の教師です。いつも仕事に誇りを持っていて、熱心に学生たちを教えます。 母は花を植えることが好きなので、家の周りはたくさんの花の種類を植えています。またはコーヒーを飲むことや本を読むことや旅行が好きです。 母のことを愛しています。母とたくさんの素晴らしい景色に旅行したいです。私はいつも元気で、嬉しい母を見たいです。\n"
          ]
        }
      ]
    },
    {
      "cell_type": "code",
      "source": [
        "from googletrans import Translator\n",
        "A='母は一番強い女の人だと思います。母はいつも家族を愛していて、毎日わたしたちのために頑張っています。私にいいマナー老人を尊敬することや子供たちに譲ることなどを教えてくれています。 母はいつも新設に他の人を扱うので、尊敬される。 母は家族が住んでいる町の中学校で歴史と文学の教師です。いつも仕事に誇りを持っていて、熱心に学生たちを教えます。 母は花を植えることが好きなので、家の周りはたくさんの花の種類を植えています。またはコーヒーを飲むことや本を読むことや旅行が好きです。 母のことを愛しています。母とたくさんの素晴らしい景色に旅行したいです。私はいつも元気で、嬉しい母を見たいです。'\n",
        "translator=Translator()\n",
        "translation=translator.translate(A,dest='en')\n",
        "print(translation.text)"
      ],
      "metadata": {
        "colab": {
          "base_uri": "https://localhost:8080/"
        },
        "id": "vPbN6tdXfwg9",
        "outputId": "23514e76-316c-45aa-da3f-2c328739d4e4"
      },
      "execution_count": 40,
      "outputs": [
        {
          "output_type": "stream",
          "name": "stdout",
          "text": [
            "I think my mother is the strongest woman. Her mother always loved her family and every day she works hard for us. She teaches me how to respect an old man with good manners and how to give to her children. She is respected because her mother always treats others to new establishments. Her mother is a history and literature teacher at the middle school in the town where her family lives. She always takes pride in her work and she teaches her students with enthusiasm. Her mother likes to plant flowers, so she has many kinds of flowers around her house. She also likes drinking coffee, reading books and traveling. she loves her mother She wants to travel with her mother to many wonderful sights. I want to see my mother always healthy and happy.\n"
          ]
        }
      ]
    },
    {
      "cell_type": "code",
      "source": [
        "filename = '/content/nhac1.wav'\n",
        "import speech_recognition as sr\n",
        "r = sr.Recognizer()\n",
        "with sr.AudioFile(filename) as sowrce:\n",
        "  audio_data = r.record(sowrce,offset=5, duration= 200)\n",
        "text = r.recognize_google(audio_data, language='vi')\n",
        "from googletrans import Translator\n",
        "translator = Translator()\n",
        "translation = translator.translate(text, dest ='en')\n",
        "from playsound import playsound\n",
        "import speech_recognition as sr\n",
        "from gtts import gTTS\n",
        "speak = gTTS (text = text, lang = 'en', slow = False)\n",
        "print(translation.text)\n",
        "print(text)"
      ],
      "metadata": {
        "colab": {
          "base_uri": "https://localhost:8080/"
        },
        "id": "psxyyKdYhC9r",
        "outputId": "33613716-9898-475f-ca36-ce6cdcf7c1c1"
      },
      "execution_count": 45,
      "outputs": [
        {
          "output_type": "stream",
          "name": "stdout",
          "text": [
            "I'm blue blue for a word of silence, I know a lot and I'm back for the season of love, pity for a lifetime of nostalgia for being so lonely, cold rain and cold Thanh Ky In the same life, who is bad for you to scold me for being sad and dreaming that time will stop for longer again to remember the cotton that I'm left with Whose life are you now in Lent or are you still crying alone like the time of the Cold Dew In the night your heart makes me the night you're winter looking for you I'm afraid I'll call within and I remember Khoi coffee is about to end when will you come back so lonely the rain falls on my heart so strange in your eyes I dream of time stopping to remember me with this great hour you are fast asleep you still I'm crying like a stream a1000 in the night my heart makes the autumn wind has passed\n",
            "tôi là màu xanh xanh cho một lời lặng im biết nhiều và tôi về cho mùa yêu xót xa cho một đời nhớ thương về cô đơn đến thế mưa rơi lạnh Thành Kỳ Cùng đời ai xấu cho anh mắng tôi buồn mơ thời gian dừng cho còn lại để nhớ bông còn lại tôi đời ai Giờ này em cho nam mùa chay hay là em còn đang khóc một mình như lần Sương Lạnh Trong đêm con tim em làm cho anh đêm em em mùa đông kiếm em em sợ đâu sẽ gọi trong vòng và tôi nhớ Khởi cà phê sắp tàn bên bao giờ là em sẽ về cô đơn đến thế mưa rơi lòng anh rất kỳ cục trong anh mắt tôi tôi ước mơ thời gian dừng lại để nhớ tôi với đại giờ này em đang ngủ say em còn đang khóc mình như dòng suối a1000 trong đêm con tim em làm gió mùa thu đã đi qua\n"
          ]
        }
      ]
    }
  ]
}